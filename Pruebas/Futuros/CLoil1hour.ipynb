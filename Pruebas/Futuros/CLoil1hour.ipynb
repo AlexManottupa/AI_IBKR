{
 "cells": [
  {
   "cell_type": "code",
   "execution_count": 11,
   "metadata": {},
   "outputs": [],
   "source": [
    "from ib_insync import *\n",
    "import pandas as pd\n",
    "from datetime import datetime, timedelta\n",
    "import requests\n",
    "import numpy as np\n",
    "from sklearn.preprocessing import MinMaxScaler\n",
    "from tensorflow.keras.models import Sequential\n",
    "from tensorflow.keras.layers import LSTM, Dense, Dropout, Input\n"
   ]
  },
  {
   "cell_type": "code",
   "execution_count": 12,
   "metadata": {},
   "outputs": [],
   "source": [
    "\n",
    "util.startLoop()"
   ]
  },
  {
   "cell_type": "code",
   "execution_count": 13,
   "metadata": {},
   "outputs": [
    {
     "data": {
      "text/plain": [
       "<IB connected to 127.0.0.1:7497 clientId=1>"
      ]
     },
     "execution_count": 13,
     "metadata": {},
     "output_type": "execute_result"
    }
   ],
   "source": [
    "ib = IB()\n",
    "ib.connect('127.0.0.1', 7497, clientId=1)"
   ]
  },
  {
   "cell_type": "code",
   "execution_count": 14,
   "metadata": {},
   "outputs": [],
   "source": [
    "# Definir el contrato para el futuro del crudo ligero (CL) Mayo 2025 en NYMEX\n",
    "contract = Future('CL', '202505', 'NYMEX')"
   ]
  },
  {
   "cell_type": "code",
   "execution_count": 15,
   "metadata": {},
   "outputs": [],
   "source": [
    "# Establecer el rango de tiempo\n",
    "end_time = datetime.now()\n",
    "start_time = end_time - timedelta(days=90)"
   ]
  },
  {
   "cell_type": "code",
   "execution_count": 16,
   "metadata": {},
   "outputs": [],
   "source": [
    "# Obtener datos históricos\n",
    "bars = ib.reqHistoricalData(\n",
    "    contract,\n",
    "    endDateTime=end_time,\n",
    "    durationStr='90 D',\n",
    "    barSizeSetting='1 hour',\n",
    "    whatToShow='MIDPOINT',\n",
    "    useRTH=False\n",
    ")\n"
   ]
  },
  {
   "cell_type": "code",
   "execution_count": 17,
   "metadata": {},
   "outputs": [],
   "source": [
    "# Convertir los datos a DataFrame\n",
    "df = util.df(bars)"
   ]
  },
  {
   "cell_type": "code",
   "execution_count": 18,
   "metadata": {},
   "outputs": [],
   "source": [
    "# Obtener noticias relevantes sobre el petróleo crudo\n",
    "API_KEY = 'b35c56d955ee45178c703f7f79c1dfca'\n",
    "news_url = f'https://newsapi.org/v2/everything?q=crude%20oil%20OR%20NYMEX%20CL&apiKey={API_KEY}'\n",
    "response = requests.get(news_url)\n",
    "news_data = response.json()"
   ]
  },
  {
   "cell_type": "code",
   "execution_count": 19,
   "metadata": {},
   "outputs": [
    {
     "name": "stdout",
     "output_type": "stream",
     "text": [
      "Titulares de noticias relevantes:\n",
      " [\"Gas prices are headed higher, and a 'ripple effect' could make it worse in certain regions\", 'Oil slips to lowest level in 6 months amid trade war fears', 'Crude Oil Rebounds Amid Apparent Short-Covering Rally, but Will Bulls Return?', 'Top Oil Stocks To Watch Now – March 7th', 'TESTED: Industry Nine Hydra2 Hub', 'Leishmaniasis in deployed military populations: A systematic review and meta-analysis', 'LC-MS analysis and antioxidant, antibacterial, and antidiabetic activity of Jumli Marshi rice from Nepal: An in vitro and in silico investigation to validate their potential as a functional food', 'Healthcare utilization trends in adults with asthma or COPD during the first year of COVID-19 pandemic in comparison to pre-pandemic: A population-based study', 'Acute and sub-acute toxicity of ethanol extracts of Hagenia abyssinica and Rumex abyssinicus flowers in Swiss albino mice', 'Predictors of clozapine concentration and psychiatric symptoms in patients with schizophrenia']\n"
     ]
    }
   ],
   "source": [
    "titles = [article['title'] for article in news_data['articles']]\n",
    "print(f\"Titulares de noticias relevantes:\\n {titles}\")"
   ]
  },
  {
   "cell_type": "code",
   "execution_count": 20,
   "metadata": {},
   "outputs": [],
   "source": [
    "# Análisis de sentimiento de noticias\n",
    "positive_keywords = ['rise', 'growth', 'record', 'profit']\n",
    "negative_keywords = ['fall', 'loss', 'decline', 'drop']\n"
   ]
  },
  {
   "cell_type": "code",
   "execution_count": 21,
   "metadata": {},
   "outputs": [],
   "source": [
    "positive_news = sum(1 for title in titles if any(word in title.lower() for word in positive_keywords))\n",
    "negative_news = sum(1 for title in titles if any(word in title.lower() for word in negative_keywords))\n",
    "impact_factor = 1 + (positive_news - negative_news) * 0.001\n"
   ]
  },
  {
   "cell_type": "code",
   "execution_count": 22,
   "metadata": {},
   "outputs": [],
   "source": [
    "# Seleccionar datos y normalizar\n",
    "data = df[['open', 'high', 'low', 'close']].values\n",
    "scaler = MinMaxScaler(feature_range=(0, 1))\n",
    "scaled_data = scaler.fit_transform(data)\n",
    "scaled_data_adjusted = scaled_data * impact_factor"
   ]
  },
  {
   "cell_type": "code",
   "execution_count": 23,
   "metadata": {},
   "outputs": [
    {
     "name": "stdout",
     "output_type": "stream",
     "text": [
      "Niveles de soporte y resistencia detectados: [(2, np.float64(69.06)), (3, np.float64(69.09)), (5, np.float64(68.94)), (7, np.float64(69.31)), (8, np.float64(69.28)), (9, np.float64(69.35)), (11, np.float64(68.28)), (12, np.float64(68.34)), (14, np.float64(67.77)), (15, np.float64(67.83)), (17, np.float64(67.29)), (21, np.float64(67.59)), (22, np.float64(67.53)), (24, np.float64(67.6)), (26, np.float64(67.34)), (28, np.float64(67.39)), (29, np.float64(67.24)), (33, np.float64(67.83)), (34, np.float64(67.75)), (37, np.float64(68.09)), (39, np.float64(67.4)), (41, np.float64(67.65)), (42, np.float64(67.32)), (43, np.float64(67.49)), (45, np.float64(67.22)), (46, np.float64(67.32)), (47, np.float64(67.28)), (49, np.float64(67.62)), (50, np.float64(67.52)), (51, np.float64(67.53)), (52, np.float64(67.48)), (53, np.float64(67.5)), (54, np.float64(67.46)), (57, np.float64(67.92)), (61, np.float64(66.29)), (65, np.float64(67.72)), (71, np.float64(67.41)), (73, np.float64(67.13)), (74, np.float64(67.26)), (84, np.float64(68.26)), (87, np.float64(67.37)), (89, np.float64(67.71)), (90, np.float64(67.58)), (91, np.float64(67.63)), (95, np.float64(67.33)), (96, np.float64(67.39)), (100, np.float64(66.68)), (104, np.float64(67.59)), (106, np.float64(67.11)), (108, np.float64(67.48)), (111, np.float64(66.25)), (112, np.float64(66.4)), (115, np.float64(66.2)), (116, np.float64(66.51)), (117, np.float64(66.47)), (119, np.float64(66.67)), (121, np.float64(66.45)), (123, np.float64(66.61)), (124, np.float64(66.42)), (126, np.float64(66.93)), (128, np.float64(66.75)), (132, np.float64(68.26)), (133, np.float64(68.21)), (135, np.float64(68.53)), (138, np.float64(68.3)), (140, np.float64(68.58)), (141, np.float64(68.46)), (142, np.float64(68.66)), (147, np.float64(68.05)), (148, np.float64(68.31)), (150, np.float64(68.17)), (153, np.float64(68.95)), (155, np.float64(68.51)), (156, np.float64(68.67)), (157, np.float64(68.55)), (158, np.float64(68.66)), (160, np.float64(68.55)), (162, np.float64(68.63)), (163, np.float64(68.5)), (164, np.float64(68.61)), (167, np.float64(68.5)), (170, np.float64(69.03)), (172, np.float64(68.78)), (180, np.float64(68.21)), (182, np.float64(68.35)), (183, np.float64(68.3)), (186, np.float64(68.38)), (189, np.float64(68.18)), (196, np.float64(69.4)), (199, np.float64(68.98)), (200, np.float64(69.04)), (202, np.float64(68.65)), (205, np.float64(69.2)), (207, np.float64(69.11)), (210, np.float64(69.42)), (213, np.float64(69.09)), (215, np.float64(69.47)), (221, np.float64(68.64)), (223, np.float64(69.73)), (224, np.float64(69.67)), (226, np.float64(70.02)), (228, np.float64(69.86)), (230, np.float64(69.98)), (233, np.float64(69.64)), (234, np.float64(69.73)), (236, np.float64(69.44)), (237, np.float64(69.55)), (238, np.float64(69.31)), (242, np.float64(69.85)), (248, np.float64(67.94)), (249, np.float64(67.9)), (251, np.float64(68.1)), (253, np.float64(67.7)), (258, np.float64(68.17)), (261, np.float64(68.01)), (265, np.float64(68.53)), (266, np.float64(68.26)), (269, np.float64(68.65)), (271, np.float64(67.42)), (273, np.float64(67.79)), (274, np.float64(67.75)), (275, np.float64(68.05)), (278, np.float64(67.73)), (280, np.float64(67.95)), (281, np.float64(67.87)), (287, np.float64(68.06)), (290, np.float64(68.27)), (294, np.float64(67.25)), (296, np.float64(67.76)), (297, np.float64(67.74)), (300, np.float64(67.79)), (301, np.float64(67.68)), (302, np.float64(67.7)), (304, np.float64(67.45)), (306, np.float64(67.63)), (308, np.float64(67.44)), (311, np.float64(68.23)), (316, np.float64(67.8)), (317, np.float64(68.12)), (321, np.float64(67.81)), (324, np.float64(68.23)), (326, np.float64(68.15)), (327, np.float64(68.19)), (328, np.float64(67.57)), (329, np.float64(67.67)), (331, np.float64(67.39)), (333, np.float64(68.36)), (334, np.float64(68.25)), (336, np.float64(68.43)), (340, np.float64(67.31)), (341, np.float64(67.45)), (342, np.float64(67.34)), (344, np.float64(67.62)), (346, np.float64(67.53)), (348, np.float64(67.7)), (349, np.float64(67.67)), (353, np.float64(68.04)), (354, np.float64(67.99)), (355, np.float64(68.12)), (356, np.float64(67.45)), (357, np.float64(67.63)), (358, np.float64(66.98)), (359, np.float64(67.19)), (360, np.float64(67.15)), (361, np.float64(67.28)), (362, np.float64(67.24)), (363, np.float64(67.36)), (364, np.float64(67.31)), (365, np.float64(67.35)), (367, np.float64(67.17)), (374, np.float64(68.01)), (375, np.float64(67.84)), (377, np.float64(68.33)), (379, np.float64(68.07)), (381, np.float64(68.95)), (382, np.float64(68.88)), (383, np.float64(68.98)), (385, np.float64(68.82)), (387, np.float64(68.92)), (389, np.float64(68.77)), (394, np.float64(69.01)), (396, np.float64(68.85)), (397, np.float64(69.19)), (400, np.float64(68.94)), (401, np.float64(69.15)), (406, np.float64(67.62)), (408, np.float64(67.82)), (409, np.float64(67.73)), (411, np.float64(67.78)), (413, np.float64(67.6)), (414, np.float64(67.66)), (416, np.float64(67.56)), (420, np.float64(67.84)), (422, np.float64(67.2)), (425, np.float64(68.06)), (428, np.float64(67.31)), (429, np.float64(67.59)), (431, np.float64(67.48)), (432, np.float64(67.51)), (435, np.float64(67.09)), (442, np.float64(67.15)), (443, np.float64(67.16)), (448, np.float64(66.56)), (452, np.float64(66.91)), (453, np.float64(66.52)), (454, np.float64(66.58)), (455, np.float64(66.56)), (456, np.float64(66.72)), (457, np.float64(66.59)), (458, np.float64(66.92)), (460, np.float64(66.86)), (465, np.float64(67.53)), (466, np.float64(67.31)), (468, np.float64(67.45)), (469, np.float64(67.4)), (472, np.float64(67.92)), (473, np.float64(67.79)), (474, np.float64(67.81)), (477, np.float64(67.39)), (480, np.float64(67.4)), (481, np.float64(67.46)), (488, np.float64(67.63)), (490, np.float64(67.19)), (496, np.float64(68.13)), (500, np.float64(67.56)), (505, np.float64(68.15)), (507, np.float64(68.11)), (509, np.float64(68.26)), (510, np.float64(67.91)), (516, np.float64(68.47)), (517, np.float64(68.52)), (518, np.float64(68.5)), (522, np.float64(69.16)), (523, np.float64(69.0)), (524, np.float64(69.09)), (525, np.float64(69.06)), (526, np.float64(69.09)), (527, np.float64(69.0)), (531, np.float64(69.2)), (532, np.float64(69.17)), (534, np.float64(69.37)), (536, np.float64(69.0)), (537, np.float64(69.1)), (541, np.float64(68.12)), (543, np.float64(69.06)), (544, np.float64(68.95)), (545, np.float64(69.08)), (553, np.float64(69.05)), (554, np.float64(68.97)), (556, np.float64(69.18)), (557, np.float64(68.95)), (559, np.float64(69.6)), (562, np.float64(69.23)), (567, np.float64(69.86)), (570, np.float64(69.71)), (571, np.float64(69.76)), (572, np.float64(69.68)), (573, np.float64(69.73)), (577, np.float64(69.52)), (579, np.float64(69.6)), (587, np.float64(69.59)), (588, np.float64(69.23)), (589, np.float64(69.54)), (591, np.float64(69.24)), (593, np.float64(69.34)), (594, np.float64(69.28)), (596, np.float64(69.42)), (599, np.float64(69.33)), (601, np.float64(69.54)), (603, np.float64(68.83)), (604, np.float64(68.98)), (610, np.float64(68.13)), (616, np.float64(68.87)), (618, np.float64(68.77)), (619, np.float64(68.89)), (621, np.float64(68.75)), (622, np.float64(68.78)), (623, np.float64(68.76)), (627, np.float64(69.21)), (628, np.float64(69.09)), (630, np.float64(69.39)), (632, np.float64(69.31)), (634, np.float64(69.6)), (638, np.float64(68.42)), (639, np.float64(68.44)), (640, np.float64(68.41)), (644, np.float64(68.65)), (646, np.float64(68.52)), (647, np.float64(68.73)), (648, np.float64(68.54)), (650, np.float64(68.9)), (653, np.float64(68.68)), (654, np.float64(69.23)), (657, np.float64(68.26)), (659, np.float64(68.34)), (661, np.float64(68.1)), (662, np.float64(68.2)), (664, np.float64(68.09)), (665, np.float64(68.12)), (667, np.float64(67.94)), (670, np.float64(68.1)), (675, np.float64(67.55)), (676, np.float64(68.1)), (678, np.float64(67.56)), (683, np.float64(68.4)), (689, np.float64(68.78)), (694, np.float64(68.62)), (695, np.float64(68.7)), (700, np.float64(68.01)), (701, np.float64(68.03)), (703, np.float64(67.72)), (708, np.float64(68.51)), (709, np.float64(68.41)), (710, np.float64(68.42)), (711, np.float64(68.4)), (712, np.float64(68.45)), (713, np.float64(68.34)), (715, np.float64(68.5)), (716, np.float64(68.48)), (718, np.float64(68.68)), (719, np.float64(68.62)), (720, np.float64(68.8)), (722, np.float64(68.7)), (726, np.float64(69.09)), (727, np.float64(68.88)), (730, np.float64(69.12)), (732, np.float64(69.09)), (733, np.float64(69.19)), (736, np.float64(69.01)), (740, np.float64(69.34)), (741, np.float64(69.32)), (750, np.float64(68.54)), (752, np.float64(68.68)), (753, np.float64(68.53)), (754, np.float64(68.64)), (755, np.float64(68.6)), (756, np.float64(68.69)), (759, np.float64(68.59)), (760, np.float64(68.8)), (761, np.float64(68.78)), (763, np.float64(69.09)), (764, np.float64(69.08)), (767, np.float64(69.33)), (768, np.float64(69.2)), (769, np.float64(69.24)), (770, np.float64(69.18)), (771, np.float64(69.53)), (773, np.float64(69.12)), (777, np.float64(69.59)), (778, np.float64(69.52)), (780, np.float64(69.57)), (784, np.float64(69.13)), (785, np.float64(69.42)), (786, np.float64(69.35)), (791, np.float64(70.08)), (792, np.float64(70.04)), (793, np.float64(70.09)), (795, np.float64(69.86)), (796, np.float64(69.95)), (797, np.float64(69.94)), (800, np.float64(70.29)), (802, np.float64(70.13)), (803, np.float64(70.41)), (804, np.float64(70.38)), (805, np.float64(70.49)), (808, np.float64(70.17)), (810, np.float64(70.37)), (811, np.float64(69.83)), (818, np.float64(70.69)), (819, np.float64(70.56)), (823, np.float64(70.92)), (827, np.float64(70.69)), (828, np.float64(70.7)), (835, np.float64(71.43)), (838, np.float64(72.09)), (842, np.float64(71.55)), (846, np.float64(71.76)), (847, np.float64(71.75)), (848, np.float64(71.85)), (855, np.float64(71.31)), (862, np.float64(72.32)), (863, np.float64(72.26)), (864, np.float64(72.34)), (865, np.float64(72.25)), (867, np.float64(72.35)), (868, np.float64(72.15)), (869, np.float64(72.37)), (872, np.float64(71.93)), (874, np.float64(72.01)), (876, np.float64(71.96)), (880, np.float64(72.57)), (881, np.float64(72.43)), (882, np.float64(72.95)), (883, np.float64(72.34)), (884, np.float64(72.44)), (886, np.float64(71.76)), (887, np.float64(71.93)), (888, np.float64(71.86)), (889, np.float64(71.88)), (890, np.float64(71.78)), (894, np.float64(71.94)), (895, np.float64(71.91)), (896, np.float64(71.96)), (899, np.float64(71.63)), (902, np.float64(72.56)), (904, np.float64(72.46)), (905, np.float64(72.6)), (907, np.float64(72.46)), (908, np.float64(72.63)), (909, np.float64(72.55)), (910, np.float64(72.7)), (911, np.float64(72.53)), (913, np.float64(72.85)), (914, np.float64(72.83)), (915, np.float64(72.89)), (917, np.float64(72.75)), (919, np.float64(73.0)), (920, np.float64(72.84)), (922, np.float64(73.26)), (924, np.float64(72.55)), (926, np.float64(72.84)), (932, np.float64(71.64)), (933, np.float64(71.85)), (936, np.float64(71.69)), (937, np.float64(71.73)), (938, np.float64(71.38)), (940, np.float64(71.66)), (941, np.float64(71.63)), (943, np.float64(71.81)), (944, np.float64(71.55)), (949, np.float64(72.06)), (950, np.float64(71.97)), (955, np.float64(72.33)), (956, np.float64(72.52)), (957, np.float64(72.5)), (958, np.float64(72.54)), (959, np.float64(72.53)), (960, np.float64(72.54)), (963, np.float64(72.37)), (974, np.float64(74.7)), (975, np.float64(73.72)), (980, np.float64(74.28)), (981, np.float64(74.19)), (983, np.float64(75.37)), (986, np.float64(75.03)), (988, np.float64(75.22)), (990, np.float64(74.92)), (991, np.float64(75.41)), (992, np.float64(74.66)), (994, np.float64(75.09)), (997, np.float64(74.66)), (999, np.float64(75.05)), (1001, np.float64(74.71)), (1002, np.float64(74.76)), (1003, np.float64(74.47)), (1005, np.float64(74.7)), (1008, np.float64(74.45)), (1009, np.float64(74.57)), (1013, np.float64(74.24)), (1015, np.float64(74.78)), (1016, np.float64(74.27)), (1017, np.float64(74.7)), (1018, np.float64(74.42)), (1019, np.float64(74.45)), (1020, np.float64(74.13)), (1023, np.float64(74.47)), (1025, np.float64(74.33)), (1027, np.float64(74.7)), (1031, np.float64(74.28)), (1035, np.float64(74.72)), (1037, np.float64(74.36)), (1038, np.float64(74.55)), (1039, np.float64(74.48)), (1043, np.float64(75.38)), (1044, np.float64(75.2)), (1050, np.float64(76.39)), (1053, np.float64(76.02)), (1055, np.float64(76.28)), (1057, np.float64(76.01)), (1058, np.float64(76.14)), (1060, np.float64(75.92)), (1061, np.float64(75.94)), (1063, np.float64(75.26)), (1065, np.float64(75.69)), (1068, np.float64(74.99)), (1069, np.float64(75.32)), (1070, np.float64(75.04)), (1071, np.float64(75.34)), (1072, np.float64(75.25)), (1079, np.float64(75.72)), (1081, np.float64(75.54)), (1082, np.float64(75.67)), (1084, np.float64(75.52)), (1085, np.float64(75.55)), (1088, np.float64(74.97)), (1089, np.float64(75.19)), (1090, np.float64(74.88)), (1091, np.float64(75.4)), (1094, np.float64(74.97)), (1095, np.float64(75.03)), (1096, np.float64(75.01)), (1098, np.float64(75.31)), (1100, np.float64(74.94)), (1101, np.float64(74.98)), (1104, np.float64(74.81)), (1106, np.float64(74.89)), (1107, np.float64(74.7)), (1110, np.float64(75.22)), (1111, np.float64(74.06)), (1112, np.float64(74.27)), (1113, np.float64(74.19)), (1115, np.float64(74.62)), (1116, np.float64(74.48)), (1119, np.float64(74.31)), (1121, np.float64(74.8)), (1123, np.float64(74.62)), (1124, np.float64(74.71)), (1130, np.float64(73.56)), (1131, np.float64(73.84)), (1132, np.float64(73.48)), (1134, np.float64(74.28)), (1137, np.float64(74.06)), (1139, np.float64(74.43)), (1141, np.float64(74.22)), (1142, np.float64(74.38)), (1144, np.float64(74.22)), (1145, np.float64(74.29)), (1148, np.float64(73.95)), (1152, np.float64(74.59)), (1154, np.float64(74.18)), (1155, np.float64(74.29)), (1156, np.float64(73.87)), (1159, np.float64(74.28)), (1164, np.float64(73.77)), (1165, np.float64(73.83)), (1169, np.float64(73.72)), (1170, np.float64(73.73)), (1171, np.float64(73.64)), (1173, np.float64(74.12)), (1174, np.float64(73.94)), (1176, np.float64(74.38)), (1178, np.float64(74.19)), (1179, np.float64(74.53)), (1181, np.float64(73.53)), (1182, np.float64(73.82)), (1188, np.float64(73.08)), (1190, np.float64(73.39)), (1191, np.float64(73.29)), (1193, np.float64(73.38)), (1194, np.float64(73.34)), (1195, np.float64(73.43)), (1196, np.float64(73.34)), (1198, np.float64(73.69)), (1199, np.float64(73.59)), (1200, np.float64(73.69)), (1204, np.float64(72.91)), (1206, np.float64(73.47)), (1208, np.float64(73.19)), (1209, np.float64(73.21)), (1212, np.float64(72.4)), (1214, np.float64(72.8)), (1216, np.float64(72.58)), (1217, np.float64(72.74)), (1218, np.float64(72.7)), (1220, np.float64(73.25)), (1223, np.float64(72.68)), (1225, np.float64(72.99)), (1228, np.float64(71.36)), (1234, np.float64(71.8)), (1236, np.float64(71.93)), (1237, np.float64(71.87)), (1239, np.float64(72.15)), (1240, np.float64(72.14)), (1241, np.float64(72.41)), (1243, np.float64(72.02)), (1247, np.float64(72.33)), (1251, np.float64(71.65)), (1255, np.float64(72.22)), (1256, np.float64(72.12)), (1257, np.float64(72.19)), (1259, np.float64(72.0)), (1260, np.float64(72.02)), (1262, np.float64(71.92)), (1264, np.float64(72.13)), (1267, np.float64(71.43)), (1269, np.float64(71.93)), (1270, np.float64(71.76)), (1273, np.float64(71.99)), (1274, np.float64(71.25)), (1278, np.float64(71.62)), (1280, np.float64(71.49)), (1281, np.float64(71.53)), (1284, np.float64(71.16)), (1286, np.float64(71.32)), (1289, np.float64(70.84)), (1292, np.float64(71.39)), (1293, np.float64(71.09)), (1295, np.float64(72.05)), (1297, np.float64(71.56)), (1299, np.float64(71.69)), (1300, np.float64(71.63)), (1301, np.float64(72.0)), (1302, np.float64(71.92)), (1306, np.float64(72.17)), (1310, np.float64(71.72)), (1311, np.float64(71.81)), (1313, np.float64(71.42)), (1317, np.float64(70.93)), (1319, np.float64(71.65)), (1320, np.float64(71.2)), (1321, np.float64(71.96)), (1322, np.float64(71.22)), (1324, np.float64(72.35)), (1328, np.float64(71.82)), (1331, np.float64(72.21)), (1332, np.float64(72.19)), (1337, np.float64(72.84)), (1338, np.float64(72.75)), (1339, np.float64(72.81)), (1341, np.float64(71.2)), (1342, np.float64(71.28)), (1343, np.float64(71.27)), (1345, np.float64(71.64)), (1347, np.float64(71.26)), (1348, np.float64(71.31)), (1350, np.float64(71.15)), (1352, np.float64(71.21)), (1354, np.float64(70.77)), (1355, np.float64(70.94)), (1357, np.float64(70.56)), (1359, np.float64(70.99)), (1362, np.float64(70.22)), (1365, np.float64(71.97)), (1366, np.float64(71.77)), (1367, np.float64(72.09)), (1368, np.float64(71.66)), (1370, np.float64(71.78)), (1371, np.float64(71.68)), (1372, np.float64(71.82)), (1374, np.float64(71.56)), (1375, np.float64(71.59)), (1376, np.float64(71.52)), (1380, np.float64(71.39)), (1381, np.float64(71.41)), (1384, np.float64(70.97)), (1386, np.float64(71.15)), (1388, np.float64(70.44)), (1389, np.float64(70.56)), (1390, np.float64(70.41)), (1392, np.float64(70.48)), (1393, np.float64(70.39)), (1394, np.float64(70.46)), (1395, np.float64(70.43)), (1397, np.float64(70.56)), (1399, np.float64(70.43)), (1400, np.float64(70.6)), (1402, np.float64(70.47)), (1405, np.float64(70.95)), (1407, np.float64(70.7)), (1408, np.float64(70.87)), (1409, np.float64(70.06)), (1410, np.float64(70.61)), (1413, np.float64(69.91)), (1415, np.float64(70.06)), (1416, np.float64(69.99)), (1420, np.float64(70.39)), (1422, np.float64(70.35)), (1424, np.float64(70.51)), (1425, np.float64(70.41)), (1426, np.float64(70.71)), (1432, np.float64(70.59)), (1434, np.float64(70.12)), (1435, np.float64(70.38)), (1436, np.float64(70.32)), (1443, np.float64(70.86)), (1444, np.float64(70.84)), (1445, np.float64(70.91)), (1446, np.float64(70.89)), (1447, np.float64(70.97)), (1448, np.float64(70.84)), (1453, np.float64(71.37)), (1454, np.float64(71.21)), (1458, np.float64(71.7)), (1459, np.float64(71.54)), (1460, np.float64(71.78)), (1461, np.float64(71.77)), (1462, np.float64(71.79)), (1474, np.float64(72.54)), (1475, np.float64(72.5)), (1479, np.float64(72.41)), (1483, np.float64(72.81)), (1488, np.float64(72.49)), (1489, np.float64(72.53)), (1492, np.float64(72.45)), (1493, np.float64(72.53)), (1497, np.float64(71.89)), (1500, np.float64(72.13)), (1508, np.float64(70.84)), (1510, np.float64(70.93)), (1514, np.float64(70.31)), (1515, np.float64(70.35)), (1516, np.float64(70.31)), (1518, np.float64(70.55)), (1520, np.float64(70.0)), (1521, np.float64(70.31)), (1522, np.float64(70.08)), (1524, np.float64(70.7)), (1525, np.float64(70.65)), (1526, np.float64(70.88)), (1527, np.float64(70.79)), (1531, np.float64(71.09)), (1533, np.float64(70.93)), (1534, np.float64(71.04)), (1536, np.float64(70.98)), (1537, np.float64(71.06)), (1538, np.float64(71.01)), (1540, np.float64(71.25)), (1543, np.float64(71.08)), (1545, np.float64(71.5)), (1546, np.float64(71.08)), (1547, np.float64(71.28)), (1552, np.float64(70.51)), (1553, np.float64(70.54)), (1555, np.float64(70.16)), (1562, np.float64(70.68)), (1563, np.float64(70.55)), (1564, np.float64(70.81)), (1565, np.float64(70.74)), (1566, np.float64(70.8)), (1567, np.float64(70.51)), (1570, np.float64(70.73)), (1571, np.float64(70.6)), (1575, np.float64(71.16)), (1576, np.float64(71.05)), (1577, np.float64(71.09)), (1578, np.float64(70.96)), (1581, np.float64(71.24)), (1582, np.float64(71.23)), (1583, np.float64(71.28)), (1584, np.float64(71.24)), (1587, np.float64(71.62)), (1590, np.float64(70.83)), (1593, np.float64(71.43)), (1594, np.float64(71.26)), (1595, np.float64(71.57)), (1597, np.float64(71.51)), (1598, np.float64(71.55)), (1599, np.float64(71.51)), (1601, np.float64(71.74)), (1603, np.float64(71.6)), (1608, np.float64(72.15)), (1610, np.float64(72.01)), (1611, np.float64(72.2)), (1612, np.float64(72.1)), (1614, np.float64(72.52)), (1615, np.float64(71.96)), (1616, np.float64(72.06)), (1618, np.float64(71.77)), (1620, np.float64(71.94)), (1621, np.float64(71.88)), (1624, np.float64(71.61)), (1625, np.float64(71.63)), (1627, np.float64(71.53)), (1630, np.float64(72.08)), (1631, np.float64(71.77)), (1635, np.float64(72.32)), (1637, np.float64(72.28)), (1641, np.float64(72.71)), (1643, np.float64(72.28)), (1645, np.float64(72.48)), (1647, np.float64(72.22)), (1649, np.float64(72.27)), (1654, np.float64(71.75)), (1655, np.float64(71.9)), (1656, np.float64(71.52)), (1659, np.float64(71.89)), (1666, np.float64(70.03)), (1669, np.float64(70.22)), (1670, np.float64(70.14)), (1671, np.float64(70.16)), (1673, np.float64(69.99)), (1675, np.float64(70.14)), (1676, np.float64(70.05)), (1677, np.float64(70.18)), (1678, np.float64(70.1)), (1680, np.float64(70.33)), (1682, np.float64(70.06)), (1685, np.float64(70.47)), (1686, np.float64(70.42)), (1687, np.float64(70.48)), (1688, np.float64(70.44)), (1690, np.float64(70.63)), (1692, np.float64(70.47)), (1696, np.float64(70.9)), (1709, np.float64(68.59)), (1713, np.float64(68.86)), (1715, np.float64(68.84)), (1716, np.float64(68.92)), (1718, np.float64(68.82)), (1719, np.float64(68.88)), (1720, np.float64(68.86)), (1722, np.float64(68.96)), (1723, np.float64(68.69)), (1725, np.float64(68.78)), (1729, np.float64(68.64)), (1730, np.float64(68.41)), (1732, np.float64(68.48)), (1733, np.float64(68.2)), (1734, np.float64(68.53)), (1735, np.float64(68.47)), (1738, np.float64(68.44)), (1740, np.float64(68.53)), (1742, np.float64(68.47)), (1743, np.float64(68.49)), (1744, np.float64(68.47)), (1749, np.float64(68.95)), (1753, np.float64(69.68)), (1754, np.float64(69.65)), (1756, np.float64(69.92)), (1758, np.float64(69.74)), (1760, np.float64(69.79)), (1762, np.float64(69.63)), (1763, np.float64(69.72)), (1764, np.float64(69.62)), (1765, np.float64(69.63)), (1769, np.float64(69.18)), (1770, np.float64(69.27)), (1771, np.float64(69.06)), (1772, np.float64(69.12)), (1773, np.float64(69.03)), (1774, np.float64(69.16)), (1775, np.float64(68.88)), (1776, np.float64(69.44)), (1777, np.float64(69.3)), (1779, np.float64(69.61)), (1780, np.float64(69.36)), (1781, np.float64(69.64)), (1782, np.float64(69.56)), (1785, np.float64(70.06)), (1793, np.float64(68.94)), (1796, np.float64(69.75)), (1800, np.float64(69.11)), (1801, np.float64(69.13)), (1803, np.float64(67.91)), (1805, np.float64(68.06)), (1808, np.float64(67.64)), (1810, np.float64(67.76)), (1812, np.float64(67.56)), (1813, np.float64(67.65)), (1816, np.float64(67.18)), (1817, np.float64(67.36)), (1819, np.float64(66.78)), (1820, np.float64(67.07)), (1821, np.float64(66.44)), (1826, np.float64(67.81)), (1832, np.float64(67.13)), (1846, np.float64(65.04)), (1848, np.float64(66.0)), (1849, np.float64(65.94)), (1850, np.float64(66.06)), (1851, np.float64(65.97)), (1855, np.float64(66.39)), (1856, np.float64(66.26)), (1857, np.float64(66.31)), (1858, np.float64(66.08)), (1860, np.float64(66.37)), (1861, np.float64(66.0)), (1862, np.float64(66.12)), (1863, np.float64(65.83)), (1866, np.float64(66.04)), (1867, np.float64(66.22)), (1869, np.float64(65.31)), (1872, np.float64(66.13)), (1873, np.float64(65.88)), (1875, np.float64(66.01)), (1876, np.float64(65.91)), (1878, np.float64(66.22)), (1880, np.float64(65.99)), (1886, np.float64(67.18)), (1887, np.float64(66.94)), (1888, np.float64(67.09)), (1889, np.float64(66.72)), (1890, np.float64(67.5)), (1893, np.float64(66.66)), (1897, np.float64(66.76)), (1899, np.float64(66.28)), (1900, np.float64(66.54)), (1903, np.float64(66.35)), (1904, np.float64(66.39)), (1905, np.float64(66.34)), (1907, np.float64(66.79)), (1908, np.float64(66.66)), (1912, np.float64(67.19)), (1914, np.float64(66.09)), (1915, np.float64(66.28)), (1918, np.float64(65.53)), (1919, np.float64(65.61)), (1923, np.float64(65.22)), (1926, np.float64(65.61)), (1927, np.float64(65.6)), (1934, np.float64(66.53)), (1935, np.float64(66.28)), (1936, np.float64(66.53)), (1937, np.float64(66.19)), (1938, np.float64(66.39)), (1940, np.float64(65.89)), (1945, np.float64(66.33)), (1946, np.float64(66.31)), (1950, np.float64(66.41)), (1952, np.float64(65.94)), (1962, np.float64(67.35)), (1963, np.float64(67.34)), (1964, np.float64(67.41)), (1967, np.float64(67.41)), (1970, np.float64(67.23)), (1971, np.float64(67.43)), (1975, np.float64(67.17)), (1976, np.float64(67.44)), (1978, np.float64(66.97)), (1979, np.float64(67.09)), (1982, np.float64(66.78)), (1983, np.float64(66.84)), (1986, np.float64(66.15)), (1990, np.float64(66.56)), (1991, np.float64(66.53)), (2000, np.float64(67.16)), (2003, np.float64(66.74)), (2004, np.float64(66.88)), (2006, np.float64(66.67)), (2010, np.float64(66.94)), (2011, np.float64(66.89)), (2016, np.float64(67.69)), (2018, np.float64(67.34)), (2019, np.float64(67.41)), (2020, np.float64(67.38)), (2022, np.float64(67.47)), (2023, np.float64(67.46)), (2026, np.float64(67.83)), (2029, np.float64(67.16)), (2030, np.float64(67.37)), (2031, np.float64(67.25)), (2032, np.float64(67.5))]\n"
     ]
    }
   ],
   "source": [
    "# Identificar soportes y resistencias\n",
    "def find_support_resistance(data):\n",
    "    levels = []\n",
    "    for i in range(2, len(data) - 2):\n",
    "        if data[i] < data[i - 1] and data[i] < data[i + 1]:\n",
    "            levels.append((i, data[i]))  # Soporte\n",
    "        elif data[i] > data[i - 1] and data[i] > data[i + 1]:\n",
    "            levels.append((i, data[i]))  # Resistencia\n",
    "    return levels\n",
    "\n",
    "support_resistance_levels = find_support_resistance(df['close'].values)\n",
    "print(f\"Niveles de soporte y resistencia detectados: {support_resistance_levels}\")"
   ]
  },
  {
   "cell_type": "code",
   "execution_count": 24,
   "metadata": {},
   "outputs": [],
   "source": [
    "# Crear secuencias de datos para LSTM\n",
    "sequence_length = 60\n",
    "x_train, y_train = [], []\n",
    "for i in range(sequence_length, len(scaled_data_adjusted)):\n",
    "    x_train.append(scaled_data_adjusted[i-sequence_length:i])\n",
    "    y_train.append(scaled_data_adjusted[i])\n",
    "\n",
    "x_train, y_train = np.array(x_train), np.array(y_train)\n"
   ]
  },
  {
   "cell_type": "code",
   "execution_count": 25,
   "metadata": {},
   "outputs": [
    {
     "name": "stdout",
     "output_type": "stream",
     "text": [
      "Epoch 1/20\n",
      "\u001b[1m62/62\u001b[0m \u001b[32m━━━━━━━━━━━━━━━━━━━━\u001b[0m\u001b[37m\u001b[0m \u001b[1m4s\u001b[0m 27ms/step - loss: 0.0857\n",
      "Epoch 2/20\n",
      "\u001b[1m62/62\u001b[0m \u001b[32m━━━━━━━━━━━━━━━━━━━━\u001b[0m\u001b[37m\u001b[0m \u001b[1m2s\u001b[0m 26ms/step - loss: 0.0079\n",
      "Epoch 3/20\n",
      "\u001b[1m62/62\u001b[0m \u001b[32m━━━━━━━━━━━━━━━━━━━━\u001b[0m\u001b[37m\u001b[0m \u001b[1m2s\u001b[0m 26ms/step - loss: 0.0070\n",
      "Epoch 4/20\n",
      "\u001b[1m62/62\u001b[0m \u001b[32m━━━━━━━━━━━━━━━━━━━━\u001b[0m\u001b[37m\u001b[0m \u001b[1m2s\u001b[0m 26ms/step - loss: 0.0059\n",
      "Epoch 5/20\n",
      "\u001b[1m62/62\u001b[0m \u001b[32m━━━━━━━━━━━━━━━━━━━━\u001b[0m\u001b[37m\u001b[0m \u001b[1m2s\u001b[0m 26ms/step - loss: 0.0054\n",
      "Epoch 6/20\n",
      "\u001b[1m62/62\u001b[0m \u001b[32m━━━━━━━━━━━━━━━━━━━━\u001b[0m\u001b[37m\u001b[0m \u001b[1m2s\u001b[0m 26ms/step - loss: 0.0050\n",
      "Epoch 7/20\n",
      "\u001b[1m62/62\u001b[0m \u001b[32m━━━━━━━━━━━━━━━━━━━━\u001b[0m\u001b[37m\u001b[0m \u001b[1m2s\u001b[0m 26ms/step - loss: 0.0048\n",
      "Epoch 8/20\n",
      "\u001b[1m62/62\u001b[0m \u001b[32m━━━━━━━━━━━━━━━━━━━━\u001b[0m\u001b[37m\u001b[0m \u001b[1m2s\u001b[0m 27ms/step - loss: 0.0041\n",
      "Epoch 9/20\n",
      "\u001b[1m62/62\u001b[0m \u001b[32m━━━━━━━━━━━━━━━━━━━━\u001b[0m\u001b[37m\u001b[0m \u001b[1m2s\u001b[0m 27ms/step - loss: 0.0043\n",
      "Epoch 10/20\n",
      "\u001b[1m62/62\u001b[0m \u001b[32m━━━━━━━━━━━━━━━━━━━━\u001b[0m\u001b[37m\u001b[0m \u001b[1m2s\u001b[0m 27ms/step - loss: 0.0042\n",
      "Epoch 11/20\n",
      "\u001b[1m62/62\u001b[0m \u001b[32m━━━━━━━━━━━━━━━━━━━━\u001b[0m\u001b[37m\u001b[0m \u001b[1m2s\u001b[0m 27ms/step - loss: 0.0039\n",
      "Epoch 12/20\n",
      "\u001b[1m62/62\u001b[0m \u001b[32m━━━━━━━━━━━━━━━━━━━━\u001b[0m\u001b[37m\u001b[0m \u001b[1m2s\u001b[0m 28ms/step - loss: 0.0037\n",
      "Epoch 13/20\n",
      "\u001b[1m62/62\u001b[0m \u001b[32m━━━━━━━━━━━━━━━━━━━━\u001b[0m\u001b[37m\u001b[0m \u001b[1m2s\u001b[0m 29ms/step - loss: 0.0035\n",
      "Epoch 14/20\n",
      "\u001b[1m62/62\u001b[0m \u001b[32m━━━━━━━━━━━━━━━━━━━━\u001b[0m\u001b[37m\u001b[0m \u001b[1m2s\u001b[0m 30ms/step - loss: 0.0032\n",
      "Epoch 15/20\n",
      "\u001b[1m62/62\u001b[0m \u001b[32m━━━━━━━━━━━━━━━━━━━━\u001b[0m\u001b[37m\u001b[0m \u001b[1m2s\u001b[0m 29ms/step - loss: 0.0029\n",
      "Epoch 16/20\n",
      "\u001b[1m62/62\u001b[0m \u001b[32m━━━━━━━━━━━━━━━━━━━━\u001b[0m\u001b[37m\u001b[0m \u001b[1m2s\u001b[0m 29ms/step - loss: 0.0031\n",
      "Epoch 17/20\n",
      "\u001b[1m62/62\u001b[0m \u001b[32m━━━━━━━━━━━━━━━━━━━━\u001b[0m\u001b[37m\u001b[0m \u001b[1m2s\u001b[0m 28ms/step - loss: 0.0028\n",
      "Epoch 18/20\n",
      "\u001b[1m62/62\u001b[0m \u001b[32m━━━━━━━━━━━━━━━━━━━━\u001b[0m\u001b[37m\u001b[0m \u001b[1m2s\u001b[0m 29ms/step - loss: 0.0028\n",
      "Epoch 19/20\n",
      "\u001b[1m62/62\u001b[0m \u001b[32m━━━━━━━━━━━━━━━━━━━━\u001b[0m\u001b[37m\u001b[0m \u001b[1m2s\u001b[0m 27ms/step - loss: 0.0025\n",
      "Epoch 20/20\n",
      "\u001b[1m62/62\u001b[0m \u001b[32m━━━━━━━━━━━━━━━━━━━━\u001b[0m\u001b[37m\u001b[0m \u001b[1m2s\u001b[0m 27ms/step - loss: 0.0023\n"
     ]
    },
    {
     "data": {
      "text/plain": [
       "<keras.src.callbacks.history.History at 0x21aaa3cb4a0>"
      ]
     },
     "execution_count": 25,
     "metadata": {},
     "output_type": "execute_result"
    }
   ],
   "source": [
    "# Definir modelo LSTM\n",
    "model = Sequential()\n",
    "model.add(Input(shape=(x_train.shape[1], x_train.shape[2])))\n",
    "model.add(LSTM(units=50, return_sequences=True))\n",
    "model.add(Dropout(0.2))\n",
    "model.add(LSTM(units=50, return_sequences=False))\n",
    "model.add(Dropout(0.2))\n",
    "model.add(Dense(units=4))\n",
    "\n",
    "# Compilar y entrenar el modelo\n",
    "model.compile(optimizer='adam', loss='mean_squared_error')\n",
    "model.fit(x_train, y_train, epochs=20, batch_size=32)"
   ]
  },
  {
   "cell_type": "code",
   "execution_count": 26,
   "metadata": {},
   "outputs": [
    {
     "name": "stdout",
     "output_type": "stream",
     "text": [
      "\u001b[1m1/1\u001b[0m \u001b[32m━━━━━━━━━━━━━━━━━━━━\u001b[0m\u001b[37m\u001b[0m \u001b[1m0s\u001b[0m 301ms/step\n",
      "\u001b[1m1/1\u001b[0m \u001b[32m━━━━━━━━━━━━━━━━━━━━\u001b[0m\u001b[37m\u001b[0m \u001b[1m0s\u001b[0m 39ms/step\n",
      "\u001b[1m1/1\u001b[0m \u001b[32m━━━━━━━━━━━━━━━━━━━━\u001b[0m\u001b[37m\u001b[0m \u001b[1m0s\u001b[0m 23ms/step\n",
      "\u001b[1m1/1\u001b[0m \u001b[32m━━━━━━━━━━━━━━━━━━━━\u001b[0m\u001b[37m\u001b[0m \u001b[1m0s\u001b[0m 32ms/step\n",
      "\u001b[1m1/1\u001b[0m \u001b[32m━━━━━━━━━━━━━━━━━━━━\u001b[0m\u001b[37m\u001b[0m \u001b[1m0s\u001b[0m 32ms/step\n",
      "\u001b[1m1/1\u001b[0m \u001b[32m━━━━━━━━━━━━━━━━━━━━\u001b[0m\u001b[37m\u001b[0m \u001b[1m0s\u001b[0m 38ms/step\n",
      "\u001b[1m1/1\u001b[0m \u001b[32m━━━━━━━━━━━━━━━━━━━━\u001b[0m\u001b[37m\u001b[0m \u001b[1m0s\u001b[0m 34ms/step\n",
      "\u001b[1m1/1\u001b[0m \u001b[32m━━━━━━━━━━━━━━━━━━━━\u001b[0m\u001b[37m\u001b[0m \u001b[1m0s\u001b[0m 32ms/step\n",
      "\u001b[1m1/1\u001b[0m \u001b[32m━━━━━━━━━━━━━━━━━━━━\u001b[0m\u001b[37m\u001b[0m \u001b[1m0s\u001b[0m 20ms/step\n",
      "\u001b[1m1/1\u001b[0m \u001b[32m━━━━━━━━━━━━━━━━━━━━\u001b[0m\u001b[37m\u001b[0m \u001b[1m0s\u001b[0m 38ms/step\n"
     ]
    }
   ],
   "source": [
    "# Predicciones\n",
    "recent_data = scaled_data_adjusted[-sequence_length:]\n",
    "predictions = []\n",
    "for _ in range(10):\n",
    "    x_input = np.array([recent_data])\n",
    "    predicted_price = model.predict(x_input)\n",
    "    predictions.append(predicted_price[0])\n",
    "    recent_data = np.append(recent_data[1:], [predicted_price[0]], axis=0)"
   ]
  },
  {
   "cell_type": "code",
   "execution_count": 27,
   "metadata": {},
   "outputs": [
    {
     "name": "stdout",
     "output_type": "stream",
     "text": [
      "                                 open       high        low      close\n",
      "2025-03-17 18:00:00.627688  67.303579  67.535075  67.210417  67.420772\n",
      "2025-03-17 19:00:00.627688  67.285167  67.516910  67.193854  67.401578\n",
      "2025-03-17 20:00:00.627688  67.283221  67.514966  67.193340  67.399343\n",
      "2025-03-17 21:00:00.627688  67.291242  67.522783  67.201930  67.407506\n",
      "2025-03-17 22:00:00.627688  67.305336  67.536536  67.215810  67.422019\n",
      "2025-03-17 23:00:00.627688  67.323182  67.553974  67.232903  67.440415\n",
      "2025-03-18 00:00:00.627688  67.343397  67.573761  67.252080  67.461205\n",
      "2025-03-18 01:00:00.627688  67.365144  67.595098  67.272713  67.483486\n",
      "2025-03-18 02:00:00.627688  67.387913  67.617492  67.294424  67.506706\n",
      "2025-03-18 03:00:00.627688  67.411382  67.640627  67.316967  67.530521\n"
     ]
    }
   ],
   "source": [
    "# Desnormalizar predicciones\n",
    "predictions = scaler.inverse_transform(predictions)\n",
    "prediction_times = [end_time.replace(hour=17, minute=0, second=0) + timedelta(hours=i) for i in range(1, 11)]\n",
    "predicted_df = pd.DataFrame(predictions, columns=['open', 'high', 'low', 'close'], index=prediction_times)\n",
    "print(predicted_df)\n"
   ]
  }
 ],
 "metadata": {
  "kernelspec": {
   "display_name": "Python 3",
   "language": "python",
   "name": "python3"
  },
  "language_info": {
   "codemirror_mode": {
    "name": "ipython",
    "version": 3
   },
   "file_extension": ".py",
   "mimetype": "text/x-python",
   "name": "python",
   "nbconvert_exporter": "python",
   "pygments_lexer": "ipython3",
   "version": "3.12.5"
  }
 },
 "nbformat": 4,
 "nbformat_minor": 2
}
