{
 "cells": [
  {
   "cell_type": "code",
   "execution_count": 1,
   "metadata": {},
   "outputs": [],
   "source": [
    "from ib_insync import *"
   ]
  },
  {
   "cell_type": "code",
   "execution_count": 2,
   "metadata": {},
   "outputs": [],
   "source": [
    "util.startLoop()"
   ]
  },
  {
   "cell_type": "code",
   "execution_count": null,
   "metadata": {},
   "outputs": [
    {
     "data": {
      "text/plain": [
       "<IB connected to 127.0.0.1:7497 clientId=1>"
      ]
     },
     "execution_count": 3,
     "metadata": {},
     "output_type": "execute_result"
    },
    {
     "name": "stderr",
     "output_type": "stream",
     "text": [
      "Error 320, reqId 28: Error al leer la solicitud. Unable to parse field: 'Con Id' for input string: 'GBP'\n",
      "Peer closed connection.\n"
     ]
    }
   ],
   "source": [
    "# Conectar a Interactive Brokers\n",
    "ib = IB()\n",
    "ib.connect('127.0.0.1', 7497, clientId=1)  # Asegúrate de que TWS o IB Gateway está corriendo"
   ]
  },
  {
   "cell_type": "code",
   "execution_count": 4,
   "metadata": {},
   "outputs": [
    {
     "name": "stdout",
     "output_type": "stream",
     "text": [
      "[NewsProvider(code='BRFG', name='Briefing.com General Market Columns'), NewsProvider(code='BRFUPDN', name='Briefing.com Analyst Actions'), NewsProvider(code='DJNL', name='Dow Jones Newsletters')]\n"
     ]
    }
   ],
   "source": [
    "# Obtener fuentes de noticias disponibles\n",
    "news_providers = ib.reqNewsProviders()\n",
    "print(news_providers)\n"
   ]
  },
  {
   "cell_type": "code",
   "execution_count": 5,
   "metadata": {},
   "outputs": [],
   "source": [
    "# Obtener noticias de una fuente específica\n",
    "ticker = 'GBP'  # Puedes cambiarlo a EUR/USD o cualquier otro activo\n",
    "news_id = 'BZ'  # Ejemplo con Benzinga (debes revisar qué fuentes están disponibles en tu cuenta)\n",
    "news = ib.reqHistoricalNews(ticker, news_id, '', '', 10)\n"
   ]
  },
  {
   "cell_type": "code",
   "execution_count": 6,
   "metadata": {},
   "outputs": [],
   "source": [
    "# Mostrar las noticias\n",
    "for item in news:\n",
    "    print(item.time, item.headline)"
   ]
  }
 ],
 "metadata": {
  "kernelspec": {
   "display_name": "Python 3",
   "language": "python",
   "name": "python3"
  },
  "language_info": {
   "codemirror_mode": {
    "name": "ipython",
    "version": 3
   },
   "file_extension": ".py",
   "mimetype": "text/x-python",
   "name": "python",
   "nbconvert_exporter": "python",
   "pygments_lexer": "ipython3",
   "version": "3.12.5"
  }
 },
 "nbformat": 4,
 "nbformat_minor": 2
}
