{
 "cells": [
  {
   "cell_type": "code",
   "execution_count": 1,
   "metadata": {},
   "outputs": [],
   "source": [
    "from ib_insync import *\n",
    "import pandas as pd\n",
    "from datetime import datetime, timedelta\n",
    "import requests\n",
    "import numpy as np\n",
    "from sklearn.preprocessing import MinMaxScaler\n",
    "from tensorflow.keras.models import Sequential\n",
    "from tensorflow.keras.layers import LSTM, Dense, Dropout, Input"
   ]
  },
  {
   "cell_type": "code",
   "execution_count": 28,
   "metadata": {},
   "outputs": [],
   "source": [
    "util.startLoop()"
   ]
  },
  {
   "cell_type": "code",
   "execution_count": 29,
   "metadata": {},
   "outputs": [
    {
     "data": {
      "text/plain": [
       "<IB connected to 127.0.0.1:7497 clientId=1>"
      ]
     },
     "execution_count": 29,
     "metadata": {},
     "output_type": "execute_result"
    },
    {
     "name": "stderr",
     "output_type": "stream",
     "text": [
      "Error 1100, reqId -1: Conectividad entre IB y TWS ha sido perdida\n",
      "Error 1102, reqId -1: Conectividad entre IB y TWS ha sido restaurada - datos mantenidos: Todos los centros de datos est\\u00e1n conectados: usfarm.nj; hfarm; jfarm; usfuture; cashfarm; eufarmnj; usfarm; euhmds; cashhmds; fundfarm; ushmds; secdefnj.\n"
     ]
    }
   ],
   "source": [
    "ib = IB()\n",
    "ib.connect('127.0.0.1', 7497, clientId=1)"
   ]
  },
  {
   "cell_type": "code",
   "execution_count": 30,
   "metadata": {},
   "outputs": [],
   "source": [
    "# Definir el contrato para la acción de Pfizer Inc (PFE)\n",
    "contract = Stock('PFE', 'NYSE', 'USD')"
   ]
  },
  {
   "cell_type": "code",
   "execution_count": 31,
   "metadata": {},
   "outputs": [],
   "source": [
    "# Establecer el rango de tiempo\n",
    "end_time = datetime.now()\n",
    "start_time = end_time - timedelta(days=90)"
   ]
  },
  {
   "cell_type": "code",
   "execution_count": 32,
   "metadata": {},
   "outputs": [],
   "source": [
    "# Obtener datos históricos\n",
    "bars = ib.reqHistoricalData(\n",
    "    contract,\n",
    "    endDateTime=end_time,\n",
    "    durationStr='90 D',\n",
    "    barSizeSetting='1 hour',\n",
    "    whatToShow='TRADES',\n",
    "    useRTH=False\n",
    ")"
   ]
  },
  {
   "cell_type": "code",
   "execution_count": 33,
   "metadata": {},
   "outputs": [],
   "source": [
    "# Convertir los datos a DataFrame\n",
    "df = util.df(bars)\n"
   ]
  },
  {
   "cell_type": "code",
   "execution_count": 34,
   "metadata": {},
   "outputs": [],
   "source": [
    "# Obtener noticias relevantes sobre Pfizer Inc (PFE)\n",
    "API_KEY = 'b35c56d955ee45178c703f7f79c1dfca'\n",
    "news_url = f'https://newsapi.org/v2/everything?q=Pfizer%20OR%20NYSE%20PFE&apiKey={API_KEY}'\n",
    "response = requests.get(news_url)\n",
    "news_data = response.json()\n"
   ]
  },
  {
   "cell_type": "code",
   "execution_count": 35,
   "metadata": {},
   "outputs": [
    {
     "name": "stdout",
     "output_type": "stream",
     "text": [
      "Titulares de noticias relevantes:\n",
      " ['Is Pfizer Inc. (PFE) The Best Cheap Dividend Stock To Buy Right Now?', 'Pfizer quietly made some big DEI changes', 'Pfizer CEO says the drugmaker is prepared to shift manufacturing to the US amid tariff threats', 'Is Now The Right Time To Buy Pfizer Stock?', 'Lawmakers demand answers from RFK Jr. over Trump dinners with pharma execs', \"Even your weight loss drugs aren't safe from tariffs\", 'Big Pharma and drug middlemen donated record money to get Trump on their side', 'Big Pharma wants to bring back a tax break that could save it $15 billion', 'Is Pfizer Inc. (PFE) the Best Weight Loss Drug Stock to Buy According to Analysts?', 'INVESTIGATION ALERT: Berger Montague PC Investigates Pfizer Inc.’s Board Of Directors For Breach of Fiduciary Duties (NYSE: PFE)', 'INVESTIGATION ALERT: Berger Montague PC Investigates Pfizer Inc.’s Board Of Directors For Breach of Fiduciary Duties (NYSE: PFE)', '国産フルスクラッチLLM「PLaMo 2」が公開 ～100Bから8Bの軽量モデルに、個人は無償で商用利用も可能／商用条件に「PLaMo Community License」を新たに設定', 'La percée de l’AfD d’Alice Weidel en Allemagne met le RN dans un embarras criant', 'Pfizer’s (PFE) Buy Rating Reaffirmed at Guggenheim', 'El 8M se divide por primera vez en Barcelona: 25.000 personas se manifiestan para poner los cuidados \"en el centro\"', 'Mannheim - 33-Jähriger mit Pfefferspray attackiert', 'PLaMo 2の8Bモデルをオープンなライセンスで公開: 条件付きで商用利用可能なPLaMo Community Licenseについて - Preferred Networks Research & Development', 'Pfizer and BioNTech violated COVID-19 vaccine patent held by Moderna, German court rules', 'A német választás után az AfD csatlakozhat a Fidesz EP-frakciójához', 'Csatlakozhat a Fidesz EP-frakciójához az AfD, széteshet a Szuverén Nemzetek Európája', 'Promising Pharmaceutical Stocks To Follow Today – February 23rd', 'Rep. Julie Johnson Sells Off Shares of Pfizer Inc. (NYSE:PFE)', 'Rep. Gilbert Ray Cisneros, Jr. Purchases Shares of Pfizer Inc. (NYSE:PFE)', 'Sen. John Boozman Sells Off Shares of Pfizer Inc. (NYSE:PFE)', 'Endlagersuche für Atommüll – „Niemand braucht Angst vor radioaktiven Abfällen zu haben.“ Teil 2', 'Zacks Research Issues Positive Forecast for Pfizer Earnings', 'Stock Traders Buy High Volume of Call Options on Pfizer (NYSE:PFE)', 'Pfizer Inc. (NYSE:PFE) Receives Average Recommendation of “Moderate Buy” from Analysts', 'Rep. Jefferson Shreve Purchases Shares of Pfizer Inc. (NYSE:PFE)', 'Orbán: Itt, Európában Magyarország kivételével mindenki más le akarja győzni az oroszokat, ami őrület', 'Promising Manufacturing Stocks To Keep An Eye On – March 13th', 'Italian government: no ongoing negotiations with French satellite operator Eutelsat', 'Arvinas and Pfizer Announce Positive Topline Results from Phase 3 VERITAC-2 Clinical Trial', 'Meglepő fordulat: új koalíció alakul Ausztriában, radikális változások jönnek', 'PiS candidate goes hard on Russia, opts for cutting diplomatic ties after criticising Zelenskyy', 'Spain’s centre-right pressures Sánchez to reveal Ukraine strategy in parliament', 'Angami Naga tribe celebrates Sekrenyi', 'Europa dă o lovitură de 1,9 miliarde de euro influenței ruse în Republica Moldovan. „Cel mai mare pachet de sprijin economic primit vreodată”', 'New evidence emerges in Poland-Belarus border shooting', 'Ireland’s diplomatic secret weapon', 'Vox leader denies party support for Trump’s EU tariffs', '„A Fehér Ház Donald Trump idejében már nem a szövetségesünk”', 'Sánchez fails to convince center-right opposition and the far-left on plan to increase defence spending', 'EFT: This Is Not A Buy Yet, But Worth Keeping On Your Radar', 'Az Európai Parlamentben már tényként beszélnek az Európában zárolt orosz vagyonok elkobzásáról', 'CVM rejeita dois acordos com a família Staub em processo sobre a Gradiente', 'Macron warns of “new era” as US backtracks from EU, Ukraine', 'Seasonality, long-term trends and co-occurrence of sharks in a top predator assemblage', 'Herb Chambers auto dealerships being sold', 'The California Railroad’s Surprising Impact on Food and Civil Rights', 'Trump’s Shocking Curvatures']\n"
     ]
    }
   ],
   "source": [
    "titles = [article['title'] for article in news_data['articles']]\n",
    "print(f\"Titulares de noticias relevantes:\\n {titles}\")\n"
   ]
  },
  {
   "cell_type": "code",
   "execution_count": 36,
   "metadata": {},
   "outputs": [],
   "source": [
    "# Análisis de sentimiento de noticias\n",
    "positive_keywords = ['rise', 'growth', 'record', 'profit']\n",
    "negative_keywords = ['fall', 'loss', 'decline', 'drop']"
   ]
  },
  {
   "cell_type": "code",
   "execution_count": 37,
   "metadata": {},
   "outputs": [],
   "source": [
    "positive_news = sum(1 for title in titles if any(word in title.lower() for word in positive_keywords))\n",
    "negative_news = sum(1 for title in titles if any(word in title.lower() for word in negative_keywords))\n",
    "impact_factor = 1 + (positive_news - negative_news) * 0.001"
   ]
  },
  {
   "cell_type": "code",
   "execution_count": 38,
   "metadata": {},
   "outputs": [],
   "source": [
    "# Seleccionar datos y normalizar\n",
    "data = df[['open', 'high', 'low', 'close']].values\n",
    "scaler = MinMaxScaler(feature_range=(0, 1))\n",
    "scaled_data = scaler.fit_transform(data)\n",
    "scaled_data_adjusted = scaled_data * impact_factor\n"
   ]
  },
  {
   "cell_type": "code",
   "execution_count": 39,
   "metadata": {},
   "outputs": [],
   "source": [
    "# Identificar soportes y resistencias\n",
    "def find_support_resistance(data):\n",
    "    levels = []\n",
    "    for i in range(2, len(data) - 2):\n",
    "        if data[i] < data[i - 1] and data[i] < data[i + 1]:\n",
    "            levels.append((i, data[i]))  # Soporte\n",
    "        elif data[i] > data[i - 1] and data[i] > data[i + 1]:\n",
    "            levels.append((i, data[i]))  # Resistencia\n",
    "    return levels"
   ]
  },
  {
   "cell_type": "code",
   "execution_count": 40,
   "metadata": {},
   "outputs": [
    {
     "name": "stdout",
     "output_type": "stream",
     "text": [
      "Niveles de soporte y resistencia detectados: [(4, np.float64(27.59)), (6, np.float64(27.35)), (7, np.float64(27.48)), (8, np.float64(27.46)), (9, np.float64(27.5)), (11, np.float64(27.36)), (13, np.float64(27.46)), (16, np.float64(26.84)), (17, np.float64(26.89)), (20, np.float64(26.73)), (21, np.float64(26.82)), (27, np.float64(26.23)), (28, np.float64(26.35)), (31, np.float64(25.98)), (34, np.float64(26.19)), (35, np.float64(26.14)), (41, np.float64(26.72)), (43, np.float64(26.48)), (44, np.float64(26.53)), (45, np.float64(26.5)), (46, np.float64(26.53)), (51, np.float64(24.86)), (52, np.float64(24.91)), (54, np.float64(24.73)), (56, np.float64(25.02)), (58, np.float64(24.71)), (60, np.float64(25.04)), (63, np.float64(24.72)), (65, np.float64(25.05)), (67, np.float64(24.84)), (69, np.float64(25.11)), (72, np.float64(24.8)), (73, np.float64(24.92)), (74, np.float64(24.8)), (76, np.float64(24.95)), (77, np.float64(24.8)), (80, np.float64(25.17)), (82, np.float64(24.94)), (86, np.float64(25.69)), (88, np.float64(25.55)), (94, np.float64(25.91)), (95, np.float64(26.0)), (96, np.float64(25.96)), (97, np.float64(26.17)), (99, np.float64(25.72)), (100, np.float64(25.73)), (101, np.float64(25.71)), (105, np.float64(25.94)), (109, np.float64(25.72)), (115, np.float64(26.21)), (121, np.float64(25.79)), (122, np.float64(25.82)), (123, np.float64(25.77)), (124, np.float64(25.88)), (127, np.float64(25.57)), (128, np.float64(25.61)), (134, np.float64(25.2)), (139, np.float64(25.6)), (140, np.float64(25.5)), (144, np.float64(26.08)), (149, np.float64(25.69)), (152, np.float64(26.36)), (158, np.float64(25.77)), (159, np.float64(25.87)), (160, np.float64(25.71)), (161, np.float64(25.75)), (162, np.float64(25.59)), (163, np.float64(25.67)), (165, np.float64(25.39)), (166, np.float64(25.47)), (169, np.float64(25.21)), (170, np.float64(25.26)), (171, np.float64(25.25)), (173, np.float64(25.42)), (176, np.float64(25.28)), (178, np.float64(25.37)), (179, np.float64(25.28)), (181, np.float64(25.63)), (187, np.float64(25.65)), (192, np.float64(25.27)), (198, np.float64(26.32)), (199, np.float64(26.43)), (201, np.float64(26.32)), (206, np.float64(25.89)), (208, np.float64(25.96)), (210, np.float64(25.61)), (211, np.float64(25.73)), (212, np.float64(25.7)), (214, np.float64(26.24)), (215, np.float64(26.14)), (217, np.float64(26.47)), (218, np.float64(26.34)), (219, np.float64(26.38)), (221, np.float64(26.24)), (225, np.float64(26.55)), (226, np.float64(26.54)), (227, np.float64(26.71)), (228, np.float64(26.5)), (229, np.float64(26.71)), (230, np.float64(26.7)), (231, np.float64(26.74)), (233, np.float64(26.61)), (234, np.float64(26.63)), (237, np.float64(26.52)), (239, np.float64(26.82)), (242, np.float64(26.63)), (244, np.float64(26.65)), (246, np.float64(26.27)), (250, np.float64(26.55)), (252, np.float64(26.41)), (253, np.float64(26.54)), (255, np.float64(26.42)), (257, np.float64(26.52)), (258, np.float64(26.48)), (261, np.float64(26.8)), (265, np.float64(26.61)), (266, np.float64(26.62)), (267, np.float64(26.57)), (269, np.float64(26.66)), (270, np.float64(26.64)), (271, np.float64(26.68)), (273, np.float64(26.58)), (278, np.float64(27.23)), (280, np.float64(26.91)), (286, np.float64(26.97)), (287, np.float64(27.13)), (288, np.float64(26.65)), (289, np.float64(26.85)), (291, np.float64(26.74)), (293, np.float64(26.91)), (295, np.float64(26.84)), (297, np.float64(26.96)), (298, np.float64(26.91)), (299, np.float64(26.98)), (304, np.float64(26.46)), (308, np.float64(26.81)), (312, np.float64(26.45)), (313, np.float64(26.46)), (314, np.float64(26.36)), (316, np.float64(26.56)), (318, np.float64(26.24)), (320, np.float64(26.35)), (323, np.float64(26.08)), (330, np.float64(26.51)), (332, np.float64(26.32)), (333, np.float64(26.39)), (337, np.float64(26.55)), (338, np.float64(26.48)), (340, np.float64(26.59)), (342, np.float64(26.5)), (343, np.float64(26.64)), (344, np.float64(26.27)), (350, np.float64(26.02)), (353, np.float64(26.25)), (354, np.float64(26.23)), (357, np.float64(26.42)), (358, np.float64(26.08)), (359, np.float64(26.12)), (361, np.float64(25.99)), (370, np.float64(26.96)), (372, np.float64(26.57)), (373, np.float64(26.72)), (374, np.float64(26.68)), (375, np.float64(26.75)), (376, np.float64(26.74)), (377, np.float64(26.77)), (378, np.float64(26.75)), (380, np.float64(26.93)), (382, np.float64(26.63)), (384, np.float64(26.68)), (385, np.float64(26.62)), (387, np.float64(26.85)), (388, np.float64(26.77)), (390, np.float64(26.94)), (391, np.float64(26.84)), (392, np.float64(26.91)), (396, np.float64(26.8)), (400, np.float64(26.2)), (401, np.float64(26.32)), (403, np.float64(26.23)), (405, np.float64(26.34)), (408, np.float64(25.69)), (409, np.float64(25.84)), (410, np.float64(25.69)), (415, np.float64(26.57)), (416, np.float64(26.32)), (419, np.float64(26.53)), (430, np.float64(25.55)), (432, np.float64(25.68)), (433, np.float64(25.65)), (434, np.float64(25.75)), (435, np.float64(25.62)), (438, np.float64(26.02)), (449, np.float64(25.51)), (452, np.float64(25.6)), (456, np.float64(25.44)), (461, np.float64(25.7)), (462, np.float64(25.64)), (463, np.float64(25.71)), (466, np.float64(25.55)), (467, np.float64(25.62)), (468, np.float64(25.52)), (470, np.float64(25.6)), (473, np.float64(25.45)), (478, np.float64(25.82)), (479, np.float64(25.81)), (480, np.float64(25.85)), (481, np.float64(25.72)), (484, np.float64(26.06)), (485, np.float64(25.91)), (486, np.float64(25.93)), (488, np.float64(25.84)), (491, np.float64(25.98)), (492, np.float64(25.96)), (496, np.float64(26.38)), (498, np.float64(26.07)), (499, np.float64(26.48)), (501, np.float64(26.43)), (505, np.float64(26.97)), (509, np.float64(26.61)), (510, np.float64(26.77)), (512, np.float64(26.57)), (513, np.float64(26.61)), (515, np.float64(26.36)), (517, np.float64(26.44)), (521, np.float64(26.14)), (523, np.float64(26.28)), (525, np.float64(26.11)), (526, np.float64(26.14)), (527, np.float64(26.02)), (528, np.float64(26.03)), (529, np.float64(25.96)), (533, np.float64(26.84)), (538, np.float64(26.04)), (539, np.float64(26.24)), (540, np.float64(25.9)), (541, np.float64(25.96)), (543, np.float64(25.84)), (544, np.float64(25.96)), (546, np.float64(25.75)), (548, np.float64(25.93)), (550, np.float64(25.77)), (555, np.float64(26.09)), (556, np.float64(26.05)), (559, np.float64(26.33)), (560, np.float64(26.26)), (566, np.float64(26.7)), (569, np.float64(27.05)), (570, np.float64(26.79)), (571, np.float64(27.03)), (578, np.float64(25.95)), (580, np.float64(26.05)), (583, np.float64(25.51)), (587, np.float64(25.76)), (588, np.float64(25.71)), (589, np.float64(25.98)), (590, np.float64(25.78)), (591, np.float64(25.85)), (593, np.float64(25.54)), (594, np.float64(25.66)), (595, np.float64(25.61)), (596, np.float64(25.73)), (597, np.float64(25.65)), (599, np.float64(25.71)), (600, np.float64(25.58)), (604, np.float64(25.96)), (605, np.float64(25.94)), (607, np.float64(26.11)), (609, np.float64(26.05)), (611, np.float64(26.28)), (613, np.float64(26.18))]\n"
     ]
    }
   ],
   "source": [
    "support_resistance_levels = find_support_resistance(df['close'].values)\n",
    "print(f\"Niveles de soporte y resistencia detectados: {support_resistance_levels}\")"
   ]
  },
  {
   "cell_type": "code",
   "execution_count": 41,
   "metadata": {},
   "outputs": [],
   "source": [
    "# Crear secuencias de datos para LSTM\n",
    "sequence_length = 60\n",
    "x_train, y_train = [], []\n",
    "for i in range(sequence_length, len(scaled_data_adjusted)):\n",
    "    x_train.append(scaled_data_adjusted[i-sequence_length:i])\n",
    "    y_train.append(scaled_data_adjusted[i])\n",
    "\n",
    "x_train, y_train = np.array(x_train), np.array(y_train)"
   ]
  },
  {
   "cell_type": "code",
   "execution_count": 42,
   "metadata": {},
   "outputs": [
    {
     "name": "stdout",
     "output_type": "stream",
     "text": [
      "Epoch 1/20\n",
      "\u001b[1m18/18\u001b[0m \u001b[32m━━━━━━━━━━━━━━━━━━━━\u001b[0m\u001b[37m\u001b[0m \u001b[1m3s\u001b[0m 25ms/step - loss: 0.1397\n",
      "Epoch 2/20\n",
      "\u001b[1m18/18\u001b[0m \u001b[32m━━━━━━━━━━━━━━━━━━━━\u001b[0m\u001b[37m\u001b[0m \u001b[1m0s\u001b[0m 25ms/step - loss: 0.0217\n",
      "Epoch 3/20\n",
      "\u001b[1m18/18\u001b[0m \u001b[32m━━━━━━━━━━━━━━━━━━━━\u001b[0m\u001b[37m\u001b[0m \u001b[1m0s\u001b[0m 25ms/step - loss: 0.0171\n",
      "Epoch 4/20\n",
      "\u001b[1m18/18\u001b[0m \u001b[32m━━━━━━━━━━━━━━━━━━━━\u001b[0m\u001b[37m\u001b[0m \u001b[1m0s\u001b[0m 24ms/step - loss: 0.0132\n",
      "Epoch 5/20\n",
      "\u001b[1m18/18\u001b[0m \u001b[32m━━━━━━━━━━━━━━━━━━━━\u001b[0m\u001b[37m\u001b[0m \u001b[1m0s\u001b[0m 25ms/step - loss: 0.0147\n",
      "Epoch 6/20\n",
      "\u001b[1m18/18\u001b[0m \u001b[32m━━━━━━━━━━━━━━━━━━━━\u001b[0m\u001b[37m\u001b[0m \u001b[1m0s\u001b[0m 24ms/step - loss: 0.0121\n",
      "Epoch 7/20\n",
      "\u001b[1m18/18\u001b[0m \u001b[32m━━━━━━━━━━━━━━━━━━━━\u001b[0m\u001b[37m\u001b[0m \u001b[1m0s\u001b[0m 26ms/step - loss: 0.0118\n",
      "Epoch 8/20\n",
      "\u001b[1m18/18\u001b[0m \u001b[32m━━━━━━━━━━━━━━━━━━━━\u001b[0m\u001b[37m\u001b[0m \u001b[1m0s\u001b[0m 23ms/step - loss: 0.0105\n",
      "Epoch 9/20\n",
      "\u001b[1m18/18\u001b[0m \u001b[32m━━━━━━━━━━━━━━━━━━━━\u001b[0m\u001b[37m\u001b[0m \u001b[1m0s\u001b[0m 23ms/step - loss: 0.0104\n",
      "Epoch 10/20\n",
      "\u001b[1m18/18\u001b[0m \u001b[32m━━━━━━━━━━━━━━━━━━━━\u001b[0m\u001b[37m\u001b[0m \u001b[1m0s\u001b[0m 24ms/step - loss: 0.0110\n",
      "Epoch 11/20\n",
      "\u001b[1m18/18\u001b[0m \u001b[32m━━━━━━━━━━━━━━━━━━━━\u001b[0m\u001b[37m\u001b[0m \u001b[1m0s\u001b[0m 24ms/step - loss: 0.0103\n",
      "Epoch 12/20\n",
      "\u001b[1m18/18\u001b[0m \u001b[32m━━━━━━━━━━━━━━━━━━━━\u001b[0m\u001b[37m\u001b[0m \u001b[1m0s\u001b[0m 24ms/step - loss: 0.0096\n",
      "Epoch 13/20\n",
      "\u001b[1m18/18\u001b[0m \u001b[32m━━━━━━━━━━━━━━━━━━━━\u001b[0m\u001b[37m\u001b[0m \u001b[1m0s\u001b[0m 23ms/step - loss: 0.0090\n",
      "Epoch 14/20\n",
      "\u001b[1m18/18\u001b[0m \u001b[32m━━━━━━━━━━━━━━━━━━━━\u001b[0m\u001b[37m\u001b[0m \u001b[1m0s\u001b[0m 25ms/step - loss: 0.0079\n",
      "Epoch 15/20\n",
      "\u001b[1m18/18\u001b[0m \u001b[32m━━━━━━━━━━━━━━━━━━━━\u001b[0m\u001b[37m\u001b[0m \u001b[1m0s\u001b[0m 25ms/step - loss: 0.0086\n",
      "Epoch 16/20\n",
      "\u001b[1m18/18\u001b[0m \u001b[32m━━━━━━━━━━━━━━━━━━━━\u001b[0m\u001b[37m\u001b[0m \u001b[1m0s\u001b[0m 24ms/step - loss: 0.0086\n",
      "Epoch 17/20\n",
      "\u001b[1m18/18\u001b[0m \u001b[32m━━━━━━━━━━━━━━━━━━━━\u001b[0m\u001b[37m\u001b[0m \u001b[1m0s\u001b[0m 24ms/step - loss: 0.0080\n",
      "Epoch 18/20\n",
      "\u001b[1m18/18\u001b[0m \u001b[32m━━━━━━━━━━━━━━━━━━━━\u001b[0m\u001b[37m\u001b[0m \u001b[1m0s\u001b[0m 25ms/step - loss: 0.0083\n",
      "Epoch 19/20\n",
      "\u001b[1m18/18\u001b[0m \u001b[32m━━━━━━━━━━━━━━━━━━━━\u001b[0m\u001b[37m\u001b[0m \u001b[1m0s\u001b[0m 24ms/step - loss: 0.0095\n",
      "Epoch 20/20\n",
      "\u001b[1m18/18\u001b[0m \u001b[32m━━━━━━━━━━━━━━━━━━━━\u001b[0m\u001b[37m\u001b[0m \u001b[1m0s\u001b[0m 24ms/step - loss: 0.0073\n"
     ]
    },
    {
     "data": {
      "text/plain": [
       "<keras.src.callbacks.history.History at 0x1daaec9ecf0>"
      ]
     },
     "execution_count": 42,
     "metadata": {},
     "output_type": "execute_result"
    }
   ],
   "source": [
    "# Definir modelo LSTM\n",
    "model = Sequential()\n",
    "model.add(Input(shape=(x_train.shape[1], x_train.shape[2])))\n",
    "model.add(LSTM(units=50, return_sequences=True))\n",
    "model.add(Dropout(0.2))\n",
    "model.add(LSTM(units=50, return_sequences=False))\n",
    "model.add(Dropout(0.2))\n",
    "model.add(Dense(units=4))\n",
    "\n",
    "# Compilar y entrenar el modelo\n",
    "model.compile(optimizer='adam', loss='mean_squared_error')\n",
    "model.fit(x_train, y_train, epochs=20, batch_size=32)"
   ]
  },
  {
   "cell_type": "code",
   "execution_count": 43,
   "metadata": {},
   "outputs": [
    {
     "name": "stdout",
     "output_type": "stream",
     "text": [
      "\u001b[1m1/1\u001b[0m \u001b[32m━━━━━━━━━━━━━━━━━━━━\u001b[0m\u001b[37m\u001b[0m \u001b[1m0s\u001b[0m 383ms/step\n",
      "\u001b[1m1/1\u001b[0m \u001b[32m━━━━━━━━━━━━━━━━━━━━\u001b[0m\u001b[37m\u001b[0m \u001b[1m0s\u001b[0m 19ms/step\n",
      "\u001b[1m1/1\u001b[0m \u001b[32m━━━━━━━━━━━━━━━━━━━━\u001b[0m\u001b[37m\u001b[0m \u001b[1m0s\u001b[0m 18ms/step\n",
      "\u001b[1m1/1\u001b[0m \u001b[32m━━━━━━━━━━━━━━━━━━━━\u001b[0m\u001b[37m\u001b[0m \u001b[1m0s\u001b[0m 15ms/step\n",
      "\u001b[1m1/1\u001b[0m \u001b[32m━━━━━━━━━━━━━━━━━━━━\u001b[0m\u001b[37m\u001b[0m \u001b[1m0s\u001b[0m 25ms/step\n"
     ]
    }
   ],
   "source": [
    "# Predicciones\n",
    "recent_data = scaled_data_adjusted[-sequence_length:]\n",
    "predictions = []\n",
    "for _ in range(5):\n",
    "    x_input = np.array([recent_data])\n",
    "    predicted_price = model.predict(x_input)\n",
    "    predictions.append(predicted_price[0])\n",
    "    recent_data = np.append(recent_data[1:], [predicted_price[0]], axis=0)"
   ]
  },
  {
   "cell_type": "code",
   "execution_count": 44,
   "metadata": {},
   "outputs": [
    {
     "name": "stdout",
     "output_type": "stream",
     "text": [
      "                                 open       high        low      close\n",
      "2025-03-19 11:00:00.995978  26.305825  26.389408  26.204627  26.294468\n",
      "2025-03-19 12:00:00.995978  26.308066  26.390477  26.210556  26.295017\n",
      "2025-03-19 13:00:00.995978  26.298997  26.379866  26.205335  26.283941\n",
      "2025-03-19 14:00:00.995978  26.283054  26.362728  26.192408  26.266197\n",
      "2025-03-19 15:00:00.995978  26.262992  26.342042  26.174410  26.244791\n"
     ]
    }
   ],
   "source": [
    "# Desnormalizar predicciones\n",
    "predictions = scaler.inverse_transform(predictions)\n",
    "prediction_times = [end_time.replace(hour=10, minute=0, second=0) + timedelta(hours=i) for i in range(1, 6)]\n",
    "predicted_df = pd.DataFrame(predictions, columns=['open', 'high', 'low', 'close'], index=prediction_times)\n",
    "print(predicted_df)"
   ]
  },
  {
   "cell_type": "code",
   "execution_count": 45,
   "metadata": {},
   "outputs": [],
   "source": [
    "ib.disconnect()"
   ]
  }
 ],
 "metadata": {
  "kernelspec": {
   "display_name": "Python 3",
   "language": "python",
   "name": "python3"
  },
  "language_info": {
   "codemirror_mode": {
    "name": "ipython",
    "version": 3
   },
   "file_extension": ".py",
   "mimetype": "text/x-python",
   "name": "python",
   "nbconvert_exporter": "python",
   "pygments_lexer": "ipython3",
   "version": "3.12.5"
  }
 },
 "nbformat": 4,
 "nbformat_minor": 2
}
