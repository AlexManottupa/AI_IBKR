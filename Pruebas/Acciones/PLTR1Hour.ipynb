{
 "cells": [
  {
   "cell_type": "code",
   "execution_count": 20,
   "metadata": {},
   "outputs": [],
   "source": [
    "from ib_insync import *\n",
    "import pandas as pd\n",
    "from datetime import datetime, timedelta\n",
    "import requests\n",
    "import numpy as np\n",
    "from sklearn.preprocessing import MinMaxScaler\n",
    "from tensorflow.keras.models import Sequential\n",
    "from tensorflow.keras.layers import LSTM, Dense, Dropout, Input"
   ]
  },
  {
   "cell_type": "code",
   "execution_count": 21,
   "metadata": {},
   "outputs": [],
   "source": [
    "util.startLoop()\n"
   ]
  },
  {
   "cell_type": "code",
   "execution_count": 22,
   "metadata": {},
   "outputs": [
    {
     "data": {
      "text/plain": [
       "<IB connected to 127.0.0.1:7497 clientId=1>"
      ]
     },
     "execution_count": 22,
     "metadata": {},
     "output_type": "execute_result"
    },
    {
     "name": "stderr",
     "output_type": "stream",
     "text": [
      "Error 1100, reqId -1: Conectividad entre IB y TWS ha sido perdida\n",
      "Peer closed connection.\n"
     ]
    }
   ],
   "source": [
    "ib = IB()\n",
    "ib.connect('127.0.0.1', 7497, clientId=1)"
   ]
  },
  {
   "cell_type": "code",
   "execution_count": 23,
   "metadata": {},
   "outputs": [],
   "source": [
    "# Definir el contrato para la acción de Palantir Technologies Inc. (PLTR)\n",
    "contract = Stock('PLTR', 'SMART', 'USD')"
   ]
  },
  {
   "cell_type": "code",
   "execution_count": 24,
   "metadata": {},
   "outputs": [],
   "source": [
    "# Establecer el rango de tiempo\n",
    "end_time = datetime.now()\n",
    "start_time = end_time - timedelta(days=30)\n"
   ]
  },
  {
   "cell_type": "code",
   "execution_count": 25,
   "metadata": {},
   "outputs": [],
   "source": [
    "# Obtener datos históricos\n",
    "bars = ib.reqHistoricalData(\n",
    "    contract,\n",
    "    endDateTime=end_time,\n",
    "    durationStr='30 D',\n",
    "    barSizeSetting='1 hour',\n",
    "    whatToShow='TRADES',\n",
    "    useRTH=False\n",
    ")"
   ]
  },
  {
   "cell_type": "code",
   "execution_count": 26,
   "metadata": {},
   "outputs": [],
   "source": [
    "# Convertir los datos a DataFrame\n",
    "df = util.df(bars)\n"
   ]
  },
  {
   "cell_type": "code",
   "execution_count": 27,
   "metadata": {},
   "outputs": [],
   "source": [
    "# Obtener noticias relevantes sobre Palantir Technologies Inc. (PLTR)\n",
    "API_KEY = 'b35c56d955ee45178c703f7f79c1dfca'\n",
    "news_url = f'https://newsapi.org/v2/everything?q=Palantir%20OR%20NYSE%20PLTR&apiKey={API_KEY}'\n",
    "response = requests.get(news_url)\n",
    "news_data = response.json()\n"
   ]
  },
  {
   "cell_type": "code",
   "execution_count": 29,
   "metadata": {},
   "outputs": [
    {
     "name": "stdout",
     "output_type": "stream",
     "text": [
      "Titulares de noticias relevantes:\n",
      " ['Palantir (PLTR) Shares Skyrocket, What You Need To Know', 'Palantir Sparks AI Frenzy with Teaser--Big Reveal on March 13', 'Palantir Technologies (PLTR) Stock Bulls Get Set to Punish Panicked Sellers', \"Palantir won't be hurt by Pentagon cuts, analyst says — and the stock pops 5%\", 'Palantir stock slips more than 8% as the bleeding gets worse', 'Nvidia, Tesla, Oracle, Palantir, Coinbase, Doordash: Stocks to watch today', 'Intel, Nvidia, Tesla, Palantir, IRobot: Stocks to watch today', 'Will Palantir Stock Fall To $40?', 'Walmart, Alibaba, Palantir, Meta, Hasbro, Block, Cruise Lines: Stocks to watch today', 'Shares in “Unique” Palantir ($PLTR) Rise On Hopes it Can Deflect Trump Cost Crunch', 'Morgan Stanley cautions that the S&P 500 could suffer a 5% drop', \"Nvidia and Big Tech stocks can't escape the market's growing anxiety\", '1 Artificial Intelligence (AI) Stock to Buy Hand Over Fist Before It Surges by 60%, According to 1 Wall Street Analyst', 'Palantir Stock Investors Just Got Bad News From CEO Alex Karp and the U.S. Government', \"Why Palantir Could Be the First Victim of Trump's Trade War\", 'Tesla and Nvidia stock are leading a Nasdaq rebound as other chip stocks rise', 'Nvidia, Ulta, DocuSign, CK Hutchison: Stocks to watch today', \"After Palantir's stock jumped 350%+ in 2024, founder Alex Karp has sold $1.9B in shares since January 2024; VerityData says his PLTR holdings are worth $12.8B (Financial Times)\", 'Jim Cramer’s Prediction About Palantir (PLTR): Was He Right?', 'Palantir (PLTR) Partners with EYSA to Revolutionize Mobility with AI', 'Why Palantir could head for a fall as retail traders buy in', 'Palantir Vs. Nvidia: Which Is The Better AI Stock Buy?', 'The 5 Best-Performing AI Stocks In The Last Year', 'Palantir Stock Falls as Budget Uncertainty Overshadows S&P 100 Move', 'Palantir Technologies Inc. (PLTR) Expands Partnership with Voyager for AI-Powered Space Defense Solutions', 'Is Palantir Technologies Inc. (PLTR) the Best Multibagger Stock to Buy in 2025?', 'Stock of the day: Palantir slumps on US defense budget cuts and CEO share sale', 'Palantir Technologies (PLTR): ‘Musk Will Say to Karp, Fix It!’ Predicts Jim Cramer', 'Analyst Explains Why Palantir Technologies (PLTR) Is His ‘All-Time Favorite’ Stock', 'An AI stock picker that beat the S&P 500 last year is dumping tech stocks — but holding on to these Magnificent 7 firms', 'Palantir Technologies Inc. (PLTR): Jim Cramer Says ‘Wall Street Gave Up’ on This Red-Hot AI Stock', 'Palantir Technologies Inc. (PLTR): A High Growth Mega Cap Stock You Can Buy and Hold for the Next 5 Years', \"Trump tariffs are a risk for Big Tech. But 'don't run for the hills,' analysts say\", 'Palantir Hits Two Week Losing Streak. Will Wall Street Analysts Have Last Laugh?', '5 AI Stocks To Buy Ahead Of The Stargate AI Project', 'S&P 500 Gains and Losses Today: Index Bounces Off Lows as Government Shutdown Concerns Ease', 'C3.ai Is Growing, But So Are Its Problems', 'Wedbush: “We Believe Palantir Could Be A Trillion Market Cap Over The Coming Years And Shaping Up To Be The Next Oracle Or Salesforce As The AI Revolution Plays Out”', 'Palantir Technologies (PLTR) Price Prediction and Forecast 2025-2030 For March 10', 'Palantir Technologies (PLTR) Price Prediction and Forecast 2025-2030 For March 3', \"Stocks stumbled to start 2025 — here's what could turn the market around\", 'Stock market today: Dow, S&P 500, Nasdaq wobble with Nvidia earnings in sight', 'Palantir Technologies (PLTR) Price Prediction and Forecast 2025-2030 For February 24', 'Let’s Talk About This Palantir (PLTR) Meltdown and How Little Sense It Makes', \"What's Going On With Palantir Stock Today?\", 'A New Vision From Defense Secretary Hegseth Could Be a Game Changer for Palantir Stock', 'Loop Capital Says “Hold Your Nose On Valuation And Just Get Involved” In Palantir, The Stock Tumbles On Rampant Dilution Fears And Pete Hegseth’s Defense Spending Cuts', ', Palantir (PLTR) and Trade Desk (TTD) Are Recovering Today', 'Analysts revisit Palantir stock ratings amid $90 billion slump', 'AI predicts Palantir’s stock price for March 31, 2025 - Finbold', 'Palantir Technologies (PLTR) Price Prediction and Forecast 2025-2030 For March 17', 'Palantir Technologies Stock Is Dropping Like a Rock. Should You Start Buying?', \"Sen. Ted Cruz on Trump tariffs: I don't want to see big tariffs long-term on Mexico and Canada\", 'Palantir Sell-Off Makes Stock Cheap', 'Palantir stock hit hard as worry mounts', 'Wednesday links: creating nothing', 'Loop Capital Lowers Palantir Technologies (NASDAQ:PLTR) Price Target to $125.00', 'Palantir Technologies (NASDAQ:PLTR) Given Outperform Rating at Wedbush', 'Will Palantir Stock Crash in 2025?', 'Analyst revisits Palantir stock price target after slump', 'Is Palantir Losing Out on This Massive Market?', 'Are Analysts all Wrong About Palantir Technologies Stock?', 'Where Will Palantir Stock Be in 1 Year?', \"In a 30% Drawdown, What's Going On With Palantir Stock?\", 'Prominent investor highlights recent AI progress from Palantir', 'Better Artificial Intelligence (AI) Stock: Nvidia vs. Palantir', 'Better Artificial Intelligence (AI) Stock: Nvidia vs. Palantir', 'Archer Aviation’s (ACHR) Shares Surge After Strategic Leap with Palantir', 'Palantir Technologies Inc. (NASDAQ:PLTR) Stock Position Lifted by Assetmark Inc.', 'Palantir Stock Is Down 32% From Its Record High. History Says This Will Happen Next', \"Veteran trader who predicted Palantir's rally makes key move after stock drop\", \"Here's the shocking amount of stock Palantir CEO Alex Karp has dumped\", 'Should You Forget Palantir and Buy These 2 Artificial Intelligence (AI) Stocks Instead?', 'Accelerates with Stock Down 25% from Peak', 'Stock Market Today: Dow Jones, S&P 500 Fall Hard As Tariffs Kick In; Tesla, Palantir Continue To Slide (Live Coverage)', \"Here's the whopping amount of stock Palantir CEO Alex Karp has dumped\", 'Palantir Stock Gets Upgrade: Is it Time to Buy PLTR After Recent Slump?', 'Live Nasdaq Coverage: Why Palantir (PLTR) and Tesla (TSLA) Are Up Today', 'Palantir has Dropped 30%. Is the Stock a Buy on the Dip?', 'Prediction: Buying Palantir Technologies Today Will Set You Up for Life', 'Palantir Stock is Testing Key Support. Is It Time to Buy PLTR Now?', 'Brokerages Set Palantir Technologies Inc. (NASDAQ:PLTR) Target Price at $74.45', 'Palantir stock slips more than 8% as the bleeding gets worse', 'Palantir Stock Sell-Off: Is Now the Time to Buy the Dip?', \"Palantir Stock Is Down 30% From Its All-Time High. Here's Why It Could Plummet Further\", 'Stock Market Today: Dow Jones Dives After Trump Says This On Recession; Palantir Plunges, Nears 37% Decline (Live Coverage)', 'Stock Market Today: Dow Jones, S&P 500 Continue To Slide As More Tariffs Imposed; Tesla, Nvidia Fall Again Live Coverage)', 'Dow Jones Futures Rise After Stock Market Sell-Off; Nvidia, Palantir, Tesla Attempt Rebounds', 'Palantir Technologies (NASDAQ:PLTR) Upgraded to Market Perform at William Blair', 'Palantir Technologies (NASDAQ:PLTR) Trading Down 0.5% Following Insider Selling', 'Analyst Warns That Palantir Stock Could Be the ‘First Victim’ of the Trade War. How Should You Play PLTR Now?', 'Rep. Julie Johnson Buys Palantir Technologies Inc. (NASDAQ:PLTR) Shares', 'Nvidia earnings aren’t make-or-break for the whole market anymore: Morning Brief', 'Palantir Technologies Inc. (NASDAQ:PLTR) Director Alexandra W. Schiff Sells 6,776 Shares', 'Palantir Kicked Off Mobile Battle Station Deliveries to the US Army. Is It Time to Buy PLTR Stock on the Dip Now?', 'The Bubble is Bursting', 'Bitcoin outperforms tech stocks as US market opens to sea of green', 'Cathie Wood Loaded Up On HOOD, TSLA, COIN, PLTR As Market Crashed', 'Live Nasdaq Composite: TSLA, NVDA and PLTR Rise', 'PLTR Stock vs. NVDA Stock: Which Is the Best Buy-the-Dip Opportunity Right Now?']\n"
     ]
    }
   ],
   "source": [
    "titles = [article['title'] for article in news_data['articles']]\n",
    "print(f\"Titulares de noticias relevantes:\\n {titles}\")"
   ]
  },
  {
   "cell_type": "code",
   "execution_count": 30,
   "metadata": {},
   "outputs": [],
   "source": [
    "# Análisis de sentimiento de noticias\n",
    "positive_keywords = ['rise', 'growth', 'record', 'profit']\n",
    "negative_keywords = ['fall', 'loss', 'decline', 'drop']\n"
   ]
  },
  {
   "cell_type": "code",
   "execution_count": 31,
   "metadata": {},
   "outputs": [],
   "source": [
    "positive_news = sum(1 for title in titles if any(word in title.lower() for word in positive_keywords))\n",
    "negative_news = sum(1 for title in titles if any(word in title.lower() for word in negative_keywords))\n",
    "impact_factor = 1 + (positive_news - negative_news) * 0.001"
   ]
  },
  {
   "cell_type": "code",
   "execution_count": 32,
   "metadata": {},
   "outputs": [],
   "source": [
    "# Seleccionar datos y normalizar\n",
    "data = df[['open', 'high', 'low', 'close']].values\n",
    "scaler = MinMaxScaler(feature_range=(0, 1))\n",
    "scaled_data = scaler.fit_transform(data)\n",
    "scaled_data_adjusted = scaled_data * impact_factor"
   ]
  },
  {
   "cell_type": "code",
   "execution_count": 35,
   "metadata": {},
   "outputs": [
    {
     "name": "stdout",
     "output_type": "stream",
     "text": [
      "Niveles de soporte y resistencia detectados: [(4, np.float64(110.92)), (8, np.float64(115.97)), (15, np.float64(110.29)), (18, np.float64(112.34)), (19, np.float64(111.86)), (20, np.float64(112.08)), (21, np.float64(111.75)), (25, np.float64(115.5)), (26, np.float64(115.33)), (28, np.float64(117.57)), (30, np.float64(117.05)), (31, np.float64(117.56)), (33, np.float64(116.3)), (35, np.float64(117.05)), (36, np.float64(115.4)), (37, np.float64(116.2)), (40, np.float64(113.39)), (41, np.float64(113.86)), (43, np.float64(112.64)), (44, np.float64(113.21)), (45, np.float64(113.14)), (46, np.float64(113.4)), (47, np.float64(113.25)), (49, np.float64(113.91)), (52, np.float64(110.36)), (54, np.float64(115.8)), (55, np.float64(115.62)), (60, np.float64(117.79)), (61, np.float64(117.67)), (62, np.float64(117.73)), (64, np.float64(116.73)), (65, np.float64(116.81)), (66, np.float64(116.51)), (68, np.float64(117.1)), (69, np.float64(116.08)), (70, np.float64(117.94)), (72, np.float64(116.28)), (75, np.float64(117.9)), (76, np.float64(117.19)), (78, np.float64(117.3)), (85, np.float64(119.52)), (87, np.float64(117.98)), (88, np.float64(119.23)), (89, np.float64(118.73)), (91, np.float64(119.15)), (93, np.float64(118.83)), (94, np.float64(118.92)), (95, np.float64(118.78)), (98, np.float64(120.38)), (99, np.float64(120.27)), (101, np.float64(122.65)), (102, np.float64(120.21)), (104, np.float64(122.59)), (105, np.float64(122.42)), (107, np.float64(124.62)), (109, np.float64(124.5)), (111, np.float64(124.85)), (113, np.float64(123.32)), (115, np.float64(123.7)), (117, np.float64(122.95)), (119, np.float64(124.12)), (120, np.float64(123.29)), (121, np.float64(123.43)), (125, np.float64(106.1)), (126, np.float64(107.52)), (127, np.float64(106.23)), (128, np.float64(110.65)), (131, np.float64(107.63)), (132, np.float64(109.06)), (133, np.float64(96.39)), (139, np.float64(106.27)), (141, np.float64(104.16)), (145, np.float64(107.86)), (146, np.float64(107.0)), (148, np.float64(108.3)), (149, np.float64(105.97)), (150, np.float64(106.82)), (156, np.float64(100.78)), (157, np.float64(102.61)), (159, np.float64(100.16)), (160, np.float64(102.6)), (166, np.float64(90.87)), (167, np.float64(92.85)), (168, np.float64(92.73)), (169, np.float64(93.34)), (175, np.float64(87.74)), (176, np.float64(88.37)), (177, np.float64(87.67)), (179, np.float64(92.16)), (182, np.float64(87.04)), (184, np.float64(88.34)), (186, np.float64(87.01)), (188, np.float64(88.5)), (189, np.float64(88.25)), (192, np.float64(90.45)), (193, np.float64(90.44)), (195, np.float64(90.51)), (196, np.float64(89.43)), (197, np.float64(90.13)), (198, np.float64(89.64)), (199, np.float64(90.63)), (201, np.float64(88.2)), (204, np.float64(90.79)), (205, np.float64(89.76)), (206, np.float64(89.86)), (207, np.float64(88.61)), (210, np.float64(91.74)), (213, np.float64(87.49)), (215, np.float64(89.52)), (216, np.float64(89.2)), (217, np.float64(89.4)), (219, np.float64(84.77)), (220, np.float64(84.91)), (221, np.float64(84.3)), (222, np.float64(84.5)), (228, np.float64(80.81)), (230, np.float64(84.14)), (232, np.float64(81.65)), (238, np.float64(85.42)), (239, np.float64(85.4)), (240, np.float64(87.3)), (241, np.float64(87.05)), (244, np.float64(88.31)), (245, np.float64(87.16)), (247, np.float64(89.18)), (251, np.float64(83.53)), (252, np.float64(83.68)), (253, np.float64(83.1)), (254, np.float64(83.55)), (255, np.float64(82.96)), (256, np.float64(83.44)), (257, np.float64(82.9)), (258, np.float64(82.94)), (260, np.float64(79.83)), (261, np.float64(81.88)), (262, np.float64(81.54)), (266, np.float64(86.77)), (267, np.float64(84.4)), (270, np.float64(87.3)), (271, np.float64(87.1)), (272, np.float64(87.67)), (274, np.float64(86.45)), (275, np.float64(86.68)), (277, np.float64(84.73)), (278, np.float64(86.0)), (279, np.float64(85.66)), (284, np.float64(90.5)), (285, np.float64(90.34)), (286, np.float64(90.84)), (288, np.float64(87.6)), (290, np.float64(88.77)), (293, np.float64(85.83)), (294, np.float64(85.89)), (299, np.float64(80.42)), (301, np.float64(82.03)), (302, np.float64(81.1)), (304, np.float64(81.88)), (307, np.float64(79.5)), (309, np.float64(82.63)), (311, np.float64(79.85)), (315, np.float64(84.91)), (316, np.float64(84.7)), (317, np.float64(85.0)), (318, np.float64(84.62)), (319, np.float64(84.82)), (320, np.float64(82.33)), (321, np.float64(82.89)), (323, np.float64(81.65)), (324, np.float64(81.71)), (326, np.float64(78.27)), (327, np.float64(79.24)), (330, np.float64(75.12)), (331, np.float64(76.38)), (333, np.float64(73.58)), (334, np.float64(73.8)), (335, np.float64(72.03)), (336, np.float64(76.52)), (337, np.float64(76.36)), (339, np.float64(78.9)), (340, np.float64(76.57)), (341, np.float64(79.45)), (342, np.float64(77.67)), (343, np.float64(78.86)), (345, np.float64(77.48)), (346, np.float64(80.05)), (347, np.float64(78.02)), (350, np.float64(79.27)), (351, np.float64(79.22)), (352, np.float64(80.81)), (353, np.float64(80.54)), (356, np.float64(83.35)), (358, np.float64(80.89)), (359, np.float64(83.32)), (361, np.float64(82.37)), (362, np.float64(84.16)), (365, np.float64(83.58)), (367, np.float64(84.62)), (368, np.float64(82.14)), (369, np.float64(82.68)), (371, np.float64(82.33)), (372, np.float64(82.89)), (373, np.float64(79.22)), (374, np.float64(79.51)), (377, np.float64(79.06)), (378, np.float64(80.29)), (380, np.float64(79.58)), (382, np.float64(80.37)), (383, np.float64(80.27)), (390, np.float64(86.31)), (392, np.float64(85.56)), (394, np.float64(86.91)), (396, np.float64(86.07)), (399, np.float64(86.55)), (400, np.float64(86.12)), (404, np.float64(89.09)), (406, np.float64(85.78)), (407, np.float64(85.92)), (408, np.float64(85.08)), (410, np.float64(87.86)), (411, np.float64(87.36)), (412, np.float64(87.4)), (413, np.float64(87.38)), (414, np.float64(87.41)), (415, np.float64(87.26)), (416, np.float64(88.21)), (421, np.float64(82.65)), (424, np.float64(85.33)), (428, np.float64(83.72)), (429, np.float64(83.86)), (431, np.float64(83.37)), (433, np.float64(84.4)), (434, np.float64(84.19)), (435, np.float64(84.54)), (436, np.float64(84.33)), (437, np.float64(84.56)), (438, np.float64(83.87)), (440, np.float64(85.91)), (441, np.float64(85.84)), (442, np.float64(87.06)), (443, np.float64(86.09)), (449, np.float64(87.88)), (453, np.float64(86.31)), (455, np.float64(88.88)), (457, np.float64(86.97)), (459, np.float64(87.36)), (464, np.float64(86.13))]\n"
     ]
    }
   ],
   "source": [
    "# Identificar soportes y resistencias\n",
    "def find_support_resistance(data):\n",
    "    levels = []\n",
    "    for i in range(2, len(data) - 2):\n",
    "        if data[i] < data[i - 1] and data[i] < data[i + 1]:\n",
    "            levels.append((i, data[i]))  # Soporte\n",
    "        elif data[i] > data[i - 1] and data[i] > data[i + 1]:\n",
    "            levels.append((i, data[i]))  # Resistencia\n",
    "    return levels\n",
    "\n",
    "support_resistance_levels = find_support_resistance(df['close'].values)\n",
    "print(f\"Niveles de soporte y resistencia detectados: {support_resistance_levels}\")\n"
   ]
  },
  {
   "cell_type": "code",
   "execution_count": 36,
   "metadata": {},
   "outputs": [],
   "source": [
    "# Crear secuencias de datos para LSTM\n",
    "sequence_length = 60\n",
    "x_train, y_train = [], []\n",
    "for i in range(sequence_length, len(scaled_data_adjusted)):\n",
    "    x_train.append(scaled_data_adjusted[i-sequence_length:i])\n",
    "    y_train.append(scaled_data_adjusted[i])\n",
    "\n",
    "x_train, y_train = np.array(x_train), np.array(y_train)"
   ]
  },
  {
   "cell_type": "code",
   "execution_count": 37,
   "metadata": {},
   "outputs": [
    {
     "name": "stdout",
     "output_type": "stream",
     "text": [
      "Epoch 1/20\n",
      "\u001b[1m13/13\u001b[0m \u001b[32m━━━━━━━━━━━━━━━━━━━━\u001b[0m\u001b[37m\u001b[0m \u001b[1m3s\u001b[0m 22ms/step - loss: 0.1761\n",
      "Epoch 2/20\n",
      "\u001b[1m13/13\u001b[0m \u001b[32m━━━━━━━━━━━━━━━━━━━━\u001b[0m\u001b[37m\u001b[0m \u001b[1m0s\u001b[0m 22ms/step - loss: 0.0227\n",
      "Epoch 3/20\n",
      "\u001b[1m13/13\u001b[0m \u001b[32m━━━━━━━━━━━━━━━━━━━━\u001b[0m\u001b[37m\u001b[0m \u001b[1m0s\u001b[0m 22ms/step - loss: 0.0146\n",
      "Epoch 4/20\n",
      "\u001b[1m13/13\u001b[0m \u001b[32m━━━━━━━━━━━━━━━━━━━━\u001b[0m\u001b[37m\u001b[0m \u001b[1m0s\u001b[0m 22ms/step - loss: 0.0087\n",
      "Epoch 5/20\n",
      "\u001b[1m13/13\u001b[0m \u001b[32m━━━━━━━━━━━━━━━━━━━━\u001b[0m\u001b[37m\u001b[0m \u001b[1m0s\u001b[0m 22ms/step - loss: 0.0088\n",
      "Epoch 6/20\n",
      "\u001b[1m13/13\u001b[0m \u001b[32m━━━━━━━━━━━━━━━━━━━━\u001b[0m\u001b[37m\u001b[0m \u001b[1m0s\u001b[0m 24ms/step - loss: 0.0080\n",
      "Epoch 7/20\n",
      "\u001b[1m13/13\u001b[0m \u001b[32m━━━━━━━━━━━━━━━━━━━━\u001b[0m\u001b[37m\u001b[0m \u001b[1m0s\u001b[0m 23ms/step - loss: 0.0077\n",
      "Epoch 8/20\n",
      "\u001b[1m13/13\u001b[0m \u001b[32m━━━━━━━━━━━━━━━━━━━━\u001b[0m\u001b[37m\u001b[0m \u001b[1m0s\u001b[0m 22ms/step - loss: 0.0077\n",
      "Epoch 9/20\n",
      "\u001b[1m13/13\u001b[0m \u001b[32m━━━━━━━━━━━━━━━━━━━━\u001b[0m\u001b[37m\u001b[0m \u001b[1m0s\u001b[0m 22ms/step - loss: 0.0069\n",
      "Epoch 10/20\n",
      "\u001b[1m13/13\u001b[0m \u001b[32m━━━━━━━━━━━━━━━━━━━━\u001b[0m\u001b[37m\u001b[0m \u001b[1m0s\u001b[0m 22ms/step - loss: 0.0075\n",
      "Epoch 11/20\n",
      "\u001b[1m13/13\u001b[0m \u001b[32m━━━━━━━━━━━━━━━━━━━━\u001b[0m\u001b[37m\u001b[0m \u001b[1m0s\u001b[0m 22ms/step - loss: 0.0072\n",
      "Epoch 12/20\n",
      "\u001b[1m13/13\u001b[0m \u001b[32m━━━━━━━━━━━━━━━━━━━━\u001b[0m\u001b[37m\u001b[0m \u001b[1m0s\u001b[0m 22ms/step - loss: 0.0078\n",
      "Epoch 13/20\n",
      "\u001b[1m13/13\u001b[0m \u001b[32m━━━━━━━━━━━━━━━━━━━━\u001b[0m\u001b[37m\u001b[0m \u001b[1m0s\u001b[0m 22ms/step - loss: 0.0070\n",
      "Epoch 14/20\n",
      "\u001b[1m13/13\u001b[0m \u001b[32m━━━━━━━━━━━━━━━━━━━━\u001b[0m\u001b[37m\u001b[0m \u001b[1m0s\u001b[0m 22ms/step - loss: 0.0072\n",
      "Epoch 15/20\n",
      "\u001b[1m13/13\u001b[0m \u001b[32m━━━━━━━━━━━━━━━━━━━━\u001b[0m\u001b[37m\u001b[0m \u001b[1m0s\u001b[0m 22ms/step - loss: 0.0063\n",
      "Epoch 16/20\n",
      "\u001b[1m13/13\u001b[0m \u001b[32m━━━━━━━━━━━━━━━━━━━━\u001b[0m\u001b[37m\u001b[0m \u001b[1m0s\u001b[0m 24ms/step - loss: 0.0060\n",
      "Epoch 17/20\n",
      "\u001b[1m13/13\u001b[0m \u001b[32m━━━━━━━━━━━━━━━━━━━━\u001b[0m\u001b[37m\u001b[0m \u001b[1m0s\u001b[0m 24ms/step - loss: 0.0067\n",
      "Epoch 18/20\n",
      "\u001b[1m13/13\u001b[0m \u001b[32m━━━━━━━━━━━━━━━━━━━━\u001b[0m\u001b[37m\u001b[0m \u001b[1m0s\u001b[0m 22ms/step - loss: 0.0069\n",
      "Epoch 19/20\n",
      "\u001b[1m13/13\u001b[0m \u001b[32m━━━━━━━━━━━━━━━━━━━━\u001b[0m\u001b[37m\u001b[0m \u001b[1m0s\u001b[0m 22ms/step - loss: 0.0048\n",
      "Epoch 20/20\n",
      "\u001b[1m13/13\u001b[0m \u001b[32m━━━━━━━━━━━━━━━━━━━━\u001b[0m\u001b[37m\u001b[0m \u001b[1m0s\u001b[0m 23ms/step - loss: 0.0060\n"
     ]
    },
    {
     "data": {
      "text/plain": [
       "<keras.src.callbacks.history.History at 0x18ca4804fe0>"
      ]
     },
     "execution_count": 37,
     "metadata": {},
     "output_type": "execute_result"
    }
   ],
   "source": [
    " # Definir modelo LSTM\n",
    "model = Sequential()\n",
    "model.add(Input(shape=(x_train.shape[1], x_train.shape[2])))\n",
    "model.add(LSTM(units=50, return_sequences=True))\n",
    "model.add(Dropout(0.2))\n",
    "model.add(LSTM(units=50, return_sequences=False))\n",
    "model.add(Dropout(0.2))\n",
    "model.add(Dense(units=4))\n",
    "  \n",
    "  # Compilar y entrenar el modelo\n",
    "model.compile(optimizer='adam', loss='mean_squared_error')\n",
    "model.fit(x_train, y_train, epochs=20, batch_size=32)\n",
    "  "
   ]
  },
  {
   "cell_type": "code",
   "execution_count": 38,
   "metadata": {},
   "outputs": [
    {
     "name": "stdout",
     "output_type": "stream",
     "text": [
      "\u001b[1m1/1\u001b[0m \u001b[32m━━━━━━━━━━━━━━━━━━━━\u001b[0m\u001b[37m\u001b[0m \u001b[1m0s\u001b[0m 232ms/step\n",
      "\u001b[1m1/1\u001b[0m \u001b[32m━━━━━━━━━━━━━━━━━━━━\u001b[0m\u001b[37m\u001b[0m \u001b[1m0s\u001b[0m 23ms/step\n",
      "\u001b[1m1/1\u001b[0m \u001b[32m━━━━━━━━━━━━━━━━━━━━\u001b[0m\u001b[37m\u001b[0m \u001b[1m0s\u001b[0m 24ms/step\n",
      "\u001b[1m1/1\u001b[0m \u001b[32m━━━━━━━━━━━━━━━━━━━━\u001b[0m\u001b[37m\u001b[0m \u001b[1m0s\u001b[0m 25ms/step\n",
      "\u001b[1m1/1\u001b[0m \u001b[32m━━━━━━━━━━━━━━━━━━━━\u001b[0m\u001b[37m\u001b[0m \u001b[1m0s\u001b[0m 22ms/step\n",
      "\u001b[1m1/1\u001b[0m \u001b[32m━━━━━━━━━━━━━━━━━━━━\u001b[0m\u001b[37m\u001b[0m \u001b[1m0s\u001b[0m 23ms/step\n",
      "\u001b[1m1/1\u001b[0m \u001b[32m━━━━━━━━━━━━━━━━━━━━\u001b[0m\u001b[37m\u001b[0m \u001b[1m0s\u001b[0m 23ms/step\n",
      "\u001b[1m1/1\u001b[0m \u001b[32m━━━━━━━━━━━━━━━━━━━━\u001b[0m\u001b[37m\u001b[0m \u001b[1m0s\u001b[0m 24ms/step\n",
      "\u001b[1m1/1\u001b[0m \u001b[32m━━━━━━━━━━━━━━━━━━━━\u001b[0m\u001b[37m\u001b[0m \u001b[1m0s\u001b[0m 24ms/step\n",
      "\u001b[1m1/1\u001b[0m \u001b[32m━━━━━━━━━━━━━━━━━━━━\u001b[0m\u001b[37m\u001b[0m \u001b[1m0s\u001b[0m 24ms/step\n"
     ]
    }
   ],
   "source": [
    "# Predicciones\n",
    "recent_data = scaled_data_adjusted[-sequence_length:]\n",
    "predictions = []\n",
    "for _ in range(10):\n",
    "      x_input = np.array([recent_data])\n",
    "      predicted_price = model.predict(x_input)\n",
    "      predictions.append(predicted_price[0])\n",
    "      recent_data = np.append(recent_data[1:], [predicted_price[0]], axis=0)\n"
   ]
  },
  {
   "cell_type": "code",
   "execution_count": 39,
   "metadata": {},
   "outputs": [
    {
     "name": "stdout",
     "output_type": "stream",
     "text": [
      "                                 open       high        low      close\n",
      "2025-03-21 08:30:00.317733  86.041661  87.270247  84.971716  86.396835\n",
      "2025-03-21 09:30:00.317733  85.966764  87.199811  84.908010  86.328274\n",
      "2025-03-21 10:30:00.317733  85.893519  87.129053  84.845177  86.255093\n",
      "2025-03-21 11:30:00.317733  85.819732  87.056505  84.781673  86.178669\n",
      "2025-03-21 12:30:00.317733  85.744645  86.981899  84.717075  86.100284\n",
      "2025-03-21 13:30:00.317733  85.668345  86.905630  84.651508  86.021028\n",
      "2025-03-21 14:30:00.317733  85.591345  86.828395  84.585348  85.941775\n",
      "2025-03-21 15:30:00.317733  85.514317  86.750945  84.519017  85.863217\n",
      "2025-03-21 16:30:00.317733  85.437912  86.673985  84.452910  85.785864\n",
      "2025-03-21 17:30:00.317733  85.362704  86.598109  84.387361  85.710087\n"
     ]
    }
   ],
   "source": [
    "predictions = scaler.inverse_transform(predictions)\n",
    "prediction_times = [end_time.replace(hour=7, minute=30, second=0) + timedelta(hours=i) for i in range(1, 11)]\n",
    "predicted_df = pd.DataFrame(predictions, columns=['open', 'high', 'low', 'close'], index=prediction_times)\n",
    "print(predicted_df)"
   ]
  },
  {
   "cell_type": "code",
   "execution_count": 19,
   "metadata": {},
   "outputs": [],
   "source": [
    "ib.disconnect()"
   ]
  }
 ],
 "metadata": {
  "kernelspec": {
   "display_name": "Python 3",
   "language": "python",
   "name": "python3"
  },
  "language_info": {
   "codemirror_mode": {
    "name": "ipython",
    "version": 3
   },
   "file_extension": ".py",
   "mimetype": "text/x-python",
   "name": "python",
   "nbconvert_exporter": "python",
   "pygments_lexer": "ipython3",
   "version": "3.12.5"
  }
 },
 "nbformat": 4,
 "nbformat_minor": 2
}
