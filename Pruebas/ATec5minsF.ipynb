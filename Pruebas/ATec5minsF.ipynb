{
 "cells": [
  {
   "cell_type": "code",
   "execution_count": 1,
   "metadata": {},
   "outputs": [],
   "source": [
    "import numpy as np\n",
    "import pandas as pd\n",
    "import tensorflow as tf\n",
    "from tensorflow.keras.models import Sequential\n",
    "from tensorflow.keras.layers import LSTM, Dense, Dropout, Input\n",
    "from ib_insync import *\n",
    "from finta import TA  \n",
    "from datetime import datetime, timedelta"
   ]
  },
  {
   "cell_type": "code",
   "execution_count": 2,
   "metadata": {},
   "outputs": [],
   "source": [
    "util.startLoop()"
   ]
  },
  {
   "cell_type": "code",
   "execution_count": 3,
   "metadata": {},
   "outputs": [
    {
     "data": {
      "text/plain": [
       "<IB connected to 127.0.0.1:7497 clientId=1>"
      ]
     },
     "execution_count": 3,
     "metadata": {},
     "output_type": "execute_result"
    }
   ],
   "source": [
    "# Conexión a IBKR\n",
    "ib = IB()\n",
    "ib.connect('127.0.0.1', 7497, clientId=1)"
   ]
  },
  {
   "cell_type": "code",
   "execution_count": 4,
   "metadata": {},
   "outputs": [],
   "source": [
    "# Configuración de predicción\n",
    "PREDICTION_HOUR = \"17:35\"\n",
    "NUM_CANDLES = 8  # 10 velas de predicción (50 min en total)"
   ]
  },
  {
   "cell_type": "code",
   "execution_count": 5,
   "metadata": {},
   "outputs": [],
   "source": [
    "# Definir el contrato de GBP/USD\n",
    "contract = Forex('GBPUSD')"
   ]
  },
  {
   "cell_type": "code",
   "execution_count": 6,
   "metadata": {},
   "outputs": [],
   "source": [
    "# Establecer el rango de tiempo\n",
    "end_time = datetime.now()\n",
    "start_time = end_time - timedelta(days=30)\n",
    "\n",
    "# Obtener datos históricos\n",
    "bars = ib.reqHistoricalData(\n",
    "    contract,\n",
    "    endDateTime=end_time.strftime('%Y%m%d %H:%M:%S'),\n",
    "    durationStr='30 D',\n",
    "    barSizeSetting='5 mins',\n",
    "    whatToShow='MIDPOINT',\n",
    "    useRTH=False\n",
    ")"
   ]
  },
  {
   "cell_type": "code",
   "execution_count": 7,
   "metadata": {},
   "outputs": [],
   "source": [
    "# Convertir los datos a DataFrame\n",
    "df = util.df(bars)\n",
    "df['datetime'] = pd.to_datetime(df['date'])\n",
    "df.set_index('datetime', inplace=True)\n",
    "df = df[['open', 'high', 'low', 'close', 'volume']]"
   ]
  },
  {
   "cell_type": "code",
   "execution_count": 8,
   "metadata": {},
   "outputs": [],
   "source": [
    "# Cálculo de indicadores técnicos con finta\n",
    "df['rsi'] = TA.RSI(df)\n",
    "df['macd'] = TA.MACD(df)['MACD']\n",
    "df['macd_signal'] = TA.MACD(df)['SIGNAL']\n",
    "df['sma50'] = TA.SMA(df, 50)\n",
    "df['sma200'] = TA.SMA(df, 200)\n",
    "df.dropna(inplace=True)"
   ]
  },
  {
   "cell_type": "code",
   "execution_count": 9,
   "metadata": {},
   "outputs": [],
   "source": [
    "# Filtrar las columnas antes de normalizar\n",
    "df_features = ['open', 'high', 'low', 'close', 'rsi', 'macd', 'macd_signal', 'sma50', 'sma200']\n",
    "df = df[df_features]\n"
   ]
  },
  {
   "cell_type": "code",
   "execution_count": 10,
   "metadata": {},
   "outputs": [],
   "source": [
    "# Normalización de datos\n",
    "df_min = df.min()\n",
    "df_max = df.max()\n",
    "df = (df - df_min) / (df_max - df_min)"
   ]
  },
  {
   "cell_type": "code",
   "execution_count": 11,
   "metadata": {},
   "outputs": [],
   "source": [
    "# Preprocesamiento de datos para LSTM\n",
    "data = df.values\n",
    "X, y = [], []\n",
    "for i in range(len(data) - NUM_CANDLES):\n",
    "    X.append(data[i:i+NUM_CANDLES])\n",
    "    y.append(data[i+NUM_CANDLES][3])  # Predicción basada en 'close'\n",
    "X, y = np.array(X), np.array(y)\n"
   ]
  },
  {
   "cell_type": "code",
   "execution_count": 12,
   "metadata": {},
   "outputs": [
    {
     "name": "stdout",
     "output_type": "stream",
     "text": [
      "Epoch 1/50\n",
      "\u001b[1m202/202\u001b[0m \u001b[32m━━━━━━━━━━━━━━━━━━━━\u001b[0m\u001b[37m\u001b[0m \u001b[1m6s\u001b[0m 13ms/step - loss: 0.0169 - val_loss: 0.0044\n",
      "Epoch 2/50\n",
      "\u001b[1m202/202\u001b[0m \u001b[32m━━━━━━━━━━━━━━━━━━━━\u001b[0m\u001b[37m\u001b[0m \u001b[1m2s\u001b[0m 12ms/step - loss: 0.0010 - val_loss: 0.0059\n",
      "Epoch 3/50\n",
      "\u001b[1m202/202\u001b[0m \u001b[32m━━━━━━━━━━━━━━━━━━━━\u001b[0m\u001b[37m\u001b[0m \u001b[1m2s\u001b[0m 12ms/step - loss: 6.9881e-04 - val_loss: 0.0053\n",
      "Epoch 4/50\n",
      "\u001b[1m202/202\u001b[0m \u001b[32m━━━━━━━━━━━━━━━━━━━━\u001b[0m\u001b[37m\u001b[0m \u001b[1m2s\u001b[0m 12ms/step - loss: 6.1157e-04 - val_loss: 0.0062\n",
      "Epoch 5/50\n",
      "\u001b[1m202/202\u001b[0m \u001b[32m━━━━━━━━━━━━━━━━━━━━\u001b[0m\u001b[37m\u001b[0m \u001b[1m2s\u001b[0m 12ms/step - loss: 4.8852e-04 - val_loss: 0.0119\n",
      "Epoch 6/50\n",
      "\u001b[1m202/202\u001b[0m \u001b[32m━━━━━━━━━━━━━━━━━━━━\u001b[0m\u001b[37m\u001b[0m \u001b[1m2s\u001b[0m 12ms/step - loss: 4.6250e-04 - val_loss: 0.0071\n",
      "Epoch 7/50\n",
      "\u001b[1m202/202\u001b[0m \u001b[32m━━━━━━━━━━━━━━━━━━━━\u001b[0m\u001b[37m\u001b[0m \u001b[1m2s\u001b[0m 12ms/step - loss: 3.8875e-04 - val_loss: 0.0045\n",
      "Epoch 8/50\n",
      "\u001b[1m202/202\u001b[0m \u001b[32m━━━━━━━━━━━━━━━━━━━━\u001b[0m\u001b[37m\u001b[0m \u001b[1m2s\u001b[0m 12ms/step - loss: 3.3317e-04 - val_loss: 0.0063\n",
      "Epoch 9/50\n",
      "\u001b[1m202/202\u001b[0m \u001b[32m━━━━━━━━━━━━━━━━━━━━\u001b[0m\u001b[37m\u001b[0m \u001b[1m2s\u001b[0m 11ms/step - loss: 2.7564e-04 - val_loss: 0.0025\n",
      "Epoch 10/50\n",
      "\u001b[1m202/202\u001b[0m \u001b[32m━━━━━━━━━━━━━━━━━━━━\u001b[0m\u001b[37m\u001b[0m \u001b[1m2s\u001b[0m 11ms/step - loss: 2.5128e-04 - val_loss: 0.0035\n",
      "Epoch 11/50\n",
      "\u001b[1m202/202\u001b[0m \u001b[32m━━━━━━━━━━━━━━━━━━━━\u001b[0m\u001b[37m\u001b[0m \u001b[1m2s\u001b[0m 11ms/step - loss: 2.4448e-04 - val_loss: 0.0035\n",
      "Epoch 12/50\n",
      "\u001b[1m202/202\u001b[0m \u001b[32m━━━━━━━━━━━━━━━━━━━━\u001b[0m\u001b[37m\u001b[0m \u001b[1m2s\u001b[0m 12ms/step - loss: 2.6327e-04 - val_loss: 0.0022\n",
      "Epoch 13/50\n",
      "\u001b[1m202/202\u001b[0m \u001b[32m━━━━━━━━━━━━━━━━━━━━\u001b[0m\u001b[37m\u001b[0m \u001b[1m2s\u001b[0m 12ms/step - loss: 2.5647e-04 - val_loss: 0.0035\n",
      "Epoch 14/50\n",
      "\u001b[1m202/202\u001b[0m \u001b[32m━━━━━━━━━━━━━━━━━━━━\u001b[0m\u001b[37m\u001b[0m \u001b[1m2s\u001b[0m 12ms/step - loss: 3.0737e-04 - val_loss: 0.0020\n",
      "Epoch 15/50\n",
      "\u001b[1m202/202\u001b[0m \u001b[32m━━━━━━━━━━━━━━━━━━━━\u001b[0m\u001b[37m\u001b[0m \u001b[1m2s\u001b[0m 12ms/step - loss: 2.1773e-04 - val_loss: 0.0013\n",
      "Epoch 16/50\n",
      "\u001b[1m202/202\u001b[0m \u001b[32m━━━━━━━━━━━━━━━━━━━━\u001b[0m\u001b[37m\u001b[0m \u001b[1m2s\u001b[0m 12ms/step - loss: 2.0456e-04 - val_loss: 9.8277e-04\n",
      "Epoch 17/50\n",
      "\u001b[1m202/202\u001b[0m \u001b[32m━━━━━━━━━━━━━━━━━━━━\u001b[0m\u001b[37m\u001b[0m \u001b[1m2s\u001b[0m 11ms/step - loss: 1.9839e-04 - val_loss: 0.0034\n",
      "Epoch 18/50\n",
      "\u001b[1m202/202\u001b[0m \u001b[32m━━━━━━━━━━━━━━━━━━━━\u001b[0m\u001b[37m\u001b[0m \u001b[1m2s\u001b[0m 12ms/step - loss: 1.8527e-04 - val_loss: 0.0036\n",
      "Epoch 19/50\n",
      "\u001b[1m202/202\u001b[0m \u001b[32m━━━━━━━━━━━━━━━━━━━━\u001b[0m\u001b[37m\u001b[0m \u001b[1m2s\u001b[0m 12ms/step - loss: 2.1066e-04 - val_loss: 6.9477e-04\n",
      "Epoch 20/50\n",
      "\u001b[1m202/202\u001b[0m \u001b[32m━━━━━━━━━━━━━━━━━━━━\u001b[0m\u001b[37m\u001b[0m \u001b[1m2s\u001b[0m 12ms/step - loss: 2.0213e-04 - val_loss: 0.0048\n",
      "Epoch 21/50\n",
      "\u001b[1m202/202\u001b[0m \u001b[32m━━━━━━━━━━━━━━━━━━━━\u001b[0m\u001b[37m\u001b[0m \u001b[1m2s\u001b[0m 12ms/step - loss: 1.7017e-04 - val_loss: 0.0018\n",
      "Epoch 22/50\n",
      "\u001b[1m202/202\u001b[0m \u001b[32m━━━━━━━━━━━━━━━━━━━━\u001b[0m\u001b[37m\u001b[0m \u001b[1m2s\u001b[0m 12ms/step - loss: 1.7220e-04 - val_loss: 0.0065\n",
      "Epoch 23/50\n",
      "\u001b[1m202/202\u001b[0m \u001b[32m━━━━━━━━━━━━━━━━━━━━\u001b[0m\u001b[37m\u001b[0m \u001b[1m2s\u001b[0m 12ms/step - loss: 1.8069e-04 - val_loss: 2.8755e-04\n",
      "Epoch 24/50\n",
      "\u001b[1m202/202\u001b[0m \u001b[32m━━━━━━━━━━━━━━━━━━━━\u001b[0m\u001b[37m\u001b[0m \u001b[1m2s\u001b[0m 12ms/step - loss: 1.5848e-04 - val_loss: 4.3888e-04\n",
      "Epoch 25/50\n",
      "\u001b[1m202/202\u001b[0m \u001b[32m━━━━━━━━━━━━━━━━━━━━\u001b[0m\u001b[37m\u001b[0m \u001b[1m2s\u001b[0m 12ms/step - loss: 1.4936e-04 - val_loss: 9.9172e-05\n",
      "Epoch 26/50\n",
      "\u001b[1m202/202\u001b[0m \u001b[32m━━━━━━━━━━━━━━━━━━━━\u001b[0m\u001b[37m\u001b[0m \u001b[1m2s\u001b[0m 12ms/step - loss: 1.6990e-04 - val_loss: 1.7951e-04\n",
      "Epoch 27/50\n",
      "\u001b[1m202/202\u001b[0m \u001b[32m━━━━━━━━━━━━━━━━━━━━\u001b[0m\u001b[37m\u001b[0m \u001b[1m2s\u001b[0m 12ms/step - loss: 1.5622e-04 - val_loss: 4.1690e-04\n",
      "Epoch 28/50\n",
      "\u001b[1m202/202\u001b[0m \u001b[32m━━━━━━━━━━━━━━━━━━━━\u001b[0m\u001b[37m\u001b[0m \u001b[1m2s\u001b[0m 12ms/step - loss: 1.6371e-04 - val_loss: 3.7905e-04\n",
      "Epoch 29/50\n",
      "\u001b[1m202/202\u001b[0m \u001b[32m━━━━━━━━━━━━━━━━━━━━\u001b[0m\u001b[37m\u001b[0m \u001b[1m2s\u001b[0m 12ms/step - loss: 1.6175e-04 - val_loss: 1.1022e-04\n",
      "Epoch 30/50\n",
      "\u001b[1m202/202\u001b[0m \u001b[32m━━━━━━━━━━━━━━━━━━━━\u001b[0m\u001b[37m\u001b[0m \u001b[1m2s\u001b[0m 12ms/step - loss: 1.4312e-04 - val_loss: 6.3125e-04\n",
      "Epoch 31/50\n",
      "\u001b[1m202/202\u001b[0m \u001b[32m━━━━━━━━━━━━━━━━━━━━\u001b[0m\u001b[37m\u001b[0m \u001b[1m2s\u001b[0m 12ms/step - loss: 1.5960e-04 - val_loss: 2.7115e-04\n",
      "Epoch 32/50\n",
      "\u001b[1m202/202\u001b[0m \u001b[32m━━━━━━━━━━━━━━━━━━━━\u001b[0m\u001b[37m\u001b[0m \u001b[1m2s\u001b[0m 12ms/step - loss: 1.4119e-04 - val_loss: 8.9344e-05\n",
      "Epoch 33/50\n",
      "\u001b[1m202/202\u001b[0m \u001b[32m━━━━━━━━━━━━━━━━━━━━\u001b[0m\u001b[37m\u001b[0m \u001b[1m2s\u001b[0m 12ms/step - loss: 1.4152e-04 - val_loss: 0.0016\n",
      "Epoch 34/50\n",
      "\u001b[1m202/202\u001b[0m \u001b[32m━━━━━━━━━━━━━━━━━━━━\u001b[0m\u001b[37m\u001b[0m \u001b[1m2s\u001b[0m 12ms/step - loss: 1.4207e-04 - val_loss: 7.2209e-04\n",
      "Epoch 35/50\n",
      "\u001b[1m202/202\u001b[0m \u001b[32m━━━━━━━━━━━━━━━━━━━━\u001b[0m\u001b[37m\u001b[0m \u001b[1m2s\u001b[0m 12ms/step - loss: 1.4887e-04 - val_loss: 1.6041e-04\n",
      "Epoch 36/50\n",
      "\u001b[1m202/202\u001b[0m \u001b[32m━━━━━━━━━━━━━━━━━━━━\u001b[0m\u001b[37m\u001b[0m \u001b[1m2s\u001b[0m 12ms/step - loss: 1.2786e-04 - val_loss: 0.0015\n",
      "Epoch 37/50\n",
      "\u001b[1m202/202\u001b[0m \u001b[32m━━━━━━━━━━━━━━━━━━━━\u001b[0m\u001b[37m\u001b[0m \u001b[1m2s\u001b[0m 12ms/step - loss: 1.4816e-04 - val_loss: 2.6193e-04\n",
      "Epoch 38/50\n",
      "\u001b[1m202/202\u001b[0m \u001b[32m━━━━━━━━━━━━━━━━━━━━\u001b[0m\u001b[37m\u001b[0m \u001b[1m2s\u001b[0m 12ms/step - loss: 1.3170e-04 - val_loss: 6.3533e-04\n",
      "Epoch 39/50\n",
      "\u001b[1m202/202\u001b[0m \u001b[32m━━━━━━━━━━━━━━━━━━━━\u001b[0m\u001b[37m\u001b[0m \u001b[1m3s\u001b[0m 13ms/step - loss: 1.2672e-04 - val_loss: 1.3466e-04\n",
      "Epoch 40/50\n",
      "\u001b[1m202/202\u001b[0m \u001b[32m━━━━━━━━━━━━━━━━━━━━\u001b[0m\u001b[37m\u001b[0m \u001b[1m3s\u001b[0m 12ms/step - loss: 1.1337e-04 - val_loss: 5.9723e-04\n",
      "Epoch 41/50\n",
      "\u001b[1m202/202\u001b[0m \u001b[32m━━━━━━━━━━━━━━━━━━━━\u001b[0m\u001b[37m\u001b[0m \u001b[1m2s\u001b[0m 12ms/step - loss: 1.2887e-04 - val_loss: 2.2199e-04\n",
      "Epoch 42/50\n",
      "\u001b[1m202/202\u001b[0m \u001b[32m━━━━━━━━━━━━━━━━━━━━\u001b[0m\u001b[37m\u001b[0m \u001b[1m2s\u001b[0m 12ms/step - loss: 1.2034e-04 - val_loss: 7.0449e-04\n",
      "Epoch 43/50\n",
      "\u001b[1m202/202\u001b[0m \u001b[32m━━━━━━━━━━━━━━━━━━━━\u001b[0m\u001b[37m\u001b[0m \u001b[1m2s\u001b[0m 12ms/step - loss: 1.0855e-04 - val_loss: 0.0024\n",
      "Epoch 44/50\n",
      "\u001b[1m202/202\u001b[0m \u001b[32m━━━━━━━━━━━━━━━━━━━━\u001b[0m\u001b[37m\u001b[0m \u001b[1m2s\u001b[0m 12ms/step - loss: 1.3077e-04 - val_loss: 7.4835e-04\n",
      "Epoch 45/50\n",
      "\u001b[1m202/202\u001b[0m \u001b[32m━━━━━━━━━━━━━━━━━━━━\u001b[0m\u001b[37m\u001b[0m \u001b[1m2s\u001b[0m 12ms/step - loss: 1.2049e-04 - val_loss: 0.0013\n",
      "Epoch 46/50\n",
      "\u001b[1m202/202\u001b[0m \u001b[32m━━━━━━━━━━━━━━━━━━━━\u001b[0m\u001b[37m\u001b[0m \u001b[1m2s\u001b[0m 12ms/step - loss: 1.4134e-04 - val_loss: 7.0594e-04\n",
      "Epoch 47/50\n",
      "\u001b[1m202/202\u001b[0m \u001b[32m━━━━━━━━━━━━━━━━━━━━\u001b[0m\u001b[37m\u001b[0m \u001b[1m2s\u001b[0m 12ms/step - loss: 1.3366e-04 - val_loss: 1.7267e-04\n",
      "Epoch 48/50\n",
      "\u001b[1m202/202\u001b[0m \u001b[32m━━━━━━━━━━━━━━━━━━━━\u001b[0m\u001b[37m\u001b[0m \u001b[1m2s\u001b[0m 12ms/step - loss: 1.1202e-04 - val_loss: 0.0026\n",
      "Epoch 49/50\n",
      "\u001b[1m202/202\u001b[0m \u001b[32m━━━━━━━━━━━━━━━━━━━━\u001b[0m\u001b[37m\u001b[0m \u001b[1m3s\u001b[0m 13ms/step - loss: 1.2211e-04 - val_loss: 0.0014\n",
      "Epoch 50/50\n",
      "\u001b[1m202/202\u001b[0m \u001b[32m━━━━━━━━━━━━━━━━━━━━\u001b[0m\u001b[37m\u001b[0m \u001b[1m3s\u001b[0m 14ms/step - loss: 1.4142e-04 - val_loss: 8.0615e-04\n"
     ]
    },
    {
     "data": {
      "text/plain": [
       "<keras.src.callbacks.history.History at 0x1eefc0209e0>"
      ]
     },
     "execution_count": 12,
     "metadata": {},
     "output_type": "execute_result"
    }
   ],
   "source": [
    "# Construcción del modelo LSTM\n",
    "model = Sequential([\n",
    "    Input(shape=(X.shape[1], X.shape[2])),\n",
    "    LSTM(128, return_sequences=True, activation='tanh'),\n",
    "    Dropout(0.2),\n",
    "    LSTM(128, return_sequences=True, activation='tanh'),\n",
    "    Dropout(0.2),\n",
    "    LSTM(64, activation='tanh'),\n",
    "    Dropout(0.2),\n",
    "    Dense(50, activation='relu'),\n",
    "    Dense(1, activation='linear')\n",
    "])\n",
    "model.compile(optimizer='adam', loss='mse')\n",
    "\n",
    "# Entrenar el modelo\n",
    "model.fit(X, y, epochs=50, batch_size=32, validation_split=0.2)\n"
   ]
  },
  {
   "cell_type": "code",
   "execution_count": 15,
   "metadata": {},
   "outputs": [
    {
     "name": "stdout",
     "output_type": "stream",
     "text": [
      "\u001b[1m1/1\u001b[0m \u001b[32m━━━━━━━━━━━━━━━━━━━━\u001b[0m\u001b[37m\u001b[0m \u001b[1m0s\u001b[0m 12ms/step\n"
     ]
    }
   ],
   "source": [
    "# Realizar predicciones\n",
    "last_sequence = np.array([data[-NUM_CANDLES:]])  # Última secuencia para predecir\n",
    "predictions = model.predict(last_sequence)  # Asegurar salida correcta\n",
    "predictions = predictions.flatten()  # Convertir a 1D"
   ]
  },
  {
   "cell_type": "code",
   "execution_count": 16,
   "metadata": {},
   "outputs": [],
   "source": [
    "# Asegurar que predictions tiene NUM_CANDLES elementos\n",
    "if len(predictions) != NUM_CANDLES:\n",
    "    predictions = np.resize(predictions, NUM_CANDLES)  # Ajustar tamaño si es necesario\n"
   ]
  },
  {
   "cell_type": "code",
   "execution_count": 17,
   "metadata": {},
   "outputs": [
    {
     "name": "stdout",
     "output_type": "stream",
     "text": [
      "                   datetime  predicted_close\n",
      "0 2025-03-10 17:30:00-05:00          1.28579\n",
      "1 2025-03-10 17:35:00-05:00          1.28579\n",
      "2 2025-03-10 17:40:00-05:00          1.28579\n",
      "3 2025-03-10 17:45:00-05:00          1.28579\n",
      "4 2025-03-10 17:50:00-05:00          1.28579\n",
      "5 2025-03-10 17:55:00-05:00          1.28579\n",
      "6 2025-03-10 18:00:00-05:00          1.28579\n",
      "7 2025-03-10 18:05:00-05:00          1.28579\n"
     ]
    },
    {
     "name": "stderr",
     "output_type": "stream",
     "text": [
      "C:\\Users\\alex_\\AppData\\Local\\Temp\\ipykernel_4580\\3203699912.py:5: FutureWarning: 'T' is deprecated and will be removed in a future version, please use 'min' instead.\n",
      "  prediction_times = pd.date_range(start=df.index[-1], periods=NUM_CANDLES, freq='5T')\n"
     ]
    }
   ],
   "source": [
    "# Desnormalizar predicciones\n",
    "predictions = predictions * (df_max['close'] - df_min['close']) + df_min['close']\n",
    "\n",
    "# Crear DataFrame con predicciones\n",
    "prediction_times = pd.date_range(start=df.index[-1], periods=NUM_CANDLES, freq='5T')\n",
    "prediction_df = pd.DataFrame({'datetime': prediction_times, 'predicted_close': predictions})\n",
    "\n",
    "# Mostrar resultados\n",
    "print(prediction_df)"
   ]
  }
 ],
 "metadata": {
  "kernelspec": {
   "display_name": "Python 3",
   "language": "python",
   "name": "python3"
  },
  "language_info": {
   "codemirror_mode": {
    "name": "ipython",
    "version": 3
   },
   "file_extension": ".py",
   "mimetype": "text/x-python",
   "name": "python",
   "nbconvert_exporter": "python",
   "pygments_lexer": "ipython3",
   "version": "3.12.5"
  }
 },
 "nbformat": 4,
 "nbformat_minor": 2
}
