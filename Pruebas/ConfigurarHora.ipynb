{
 "cells": [
  {
   "cell_type": "code",
   "execution_count": 1,
   "metadata": {},
   "outputs": [],
   "source": [
    "from ib_insync import *"
   ]
  },
  {
   "cell_type": "code",
   "execution_count": 2,
   "metadata": {},
   "outputs": [],
   "source": [
    "util.startLoop()"
   ]
  },
  {
   "cell_type": "code",
   "execution_count": 3,
   "metadata": {},
   "outputs": [
    {
     "data": {
      "text/plain": [
       "<IB connected to 127.0.0.1:7497 clientId=1>"
      ]
     },
     "execution_count": 3,
     "metadata": {},
     "output_type": "execute_result"
    }
   ],
   "source": [
    "ib = IB()\n",
    "ib.connect('127.0.0.1', 7497, clientId=1)"
   ]
  },
  {
   "cell_type": "code",
   "execution_count": 9,
   "metadata": {},
   "outputs": [],
   "source": [
    "# Contrato de Forex para GBP/USD\n",
    "contract = Forex('GBPUSD')\n",
    "\n",
    "# Configuración para obtener los datos históricos\n",
    "end_date = '20241115 14:00:00'  # Fecha y hora de fin\n",
    "duration = '15 H'               # Duración (15 horas, desde las 23:00 del día anterior)\n",
    "bar_size = '1 hour'             # Tamaño de barra (1 hora)\n",
    "\n",
    "# Solicitud de datos históricos\n",
    "bars = ib.reqHistoricalData(\n",
    "    contract,\n",
    "    endDateTime=end_date,\n",
    "    durationStr=duration,\n",
    "    barSizeSetting=bar_size,\n",
    "    whatToShow='MIDPOINT',\n",
    "    useRTH=False  # Fuera de horario de negociación regular\n",
    ")\n"
   ]
  },
  {
   "cell_type": "code",
   "execution_count": 10,
   "metadata": {},
   "outputs": [
    {
     "name": "stdout",
     "output_type": "stream",
     "text": [
      "None\n"
     ]
    }
   ],
   "source": [
    "# Convertir a DataFrame de pandas\n",
    "df = util.df(bars)\n",
    "print(df)"
   ]
  },
  {
   "cell_type": "code",
   "execution_count": 11,
   "metadata": {},
   "outputs": [
    {
     "name": "stdout",
     "output_type": "stream",
     "text": [
      "[]\n"
     ]
    }
   ],
   "source": [
    "print(bars)"
   ]
  },
  {
   "cell_type": "code",
   "execution_count": 12,
   "metadata": {},
   "outputs": [
    {
     "name": "stdout",
     "output_type": "stream",
     "text": [
      "No se recibieron datos. Verifica rango de fechas, duración o conexión.\n"
     ]
    }
   ],
   "source": [
    "\n",
    "if not bars:\n",
    "    print(\"No se recibieron datos. Verifica rango de fechas, duración o conexión.\")\n",
    "else:\n",
    "    print(\"Datos descargados correctamente:\")\n",
    "    df = util.df(bars)\n",
    "    print(df)\n"
   ]
  }
 ],
 "metadata": {
  "kernelspec": {
   "display_name": "Python 3",
   "language": "python",
   "name": "python3"
  },
  "language_info": {
   "codemirror_mode": {
    "name": "ipython",
    "version": 3
   },
   "file_extension": ".py",
   "mimetype": "text/x-python",
   "name": "python",
   "nbconvert_exporter": "python",
   "pygments_lexer": "ipython3",
   "version": "3.12.5"
  }
 },
 "nbformat": 4,
 "nbformat_minor": 2
}
