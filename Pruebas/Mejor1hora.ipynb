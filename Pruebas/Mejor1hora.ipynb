{
 "cells": [
  {
   "cell_type": "code",
   "execution_count": 1,
   "metadata": {},
   "outputs": [],
   "source": [
    "from ib_insync import *\n",
    "import pandas as pd\n",
    "from datetime import datetime, timedelta\n",
    "import requests\n",
    "import numpy as np\n",
    "from sklearn.preprocessing import MinMaxScaler\n",
    "from tensorflow.keras.models import Sequential\n",
    "from tensorflow.keras.layers import LSTM, Dense, Dropout, Input\n",
    "import random"
   ]
  },
  {
   "cell_type": "code",
   "execution_count": 2,
   "metadata": {},
   "outputs": [],
   "source": [
    "util.startLoop()"
   ]
  },
  {
   "cell_type": "code",
   "execution_count": 3,
   "metadata": {},
   "outputs": [
    {
     "data": {
      "text/plain": [
       "<IB connected to 127.0.0.1:7497 clientId=1>"
      ]
     },
     "execution_count": 3,
     "metadata": {},
     "output_type": "execute_result"
    }
   ],
   "source": [
    "# Configuración de Interactive Brokers\n",
    "ib = IB()\n",
    "ib.connect('127.0.0.1', 7497, clientId=1)\n"
   ]
  },
  {
   "cell_type": "code",
   "execution_count": 4,
   "metadata": {},
   "outputs": [],
   "source": [
    "# Obtener datos de 90 días con velas de 1 hora\n",
    "contract = Forex('GBPUSD')\n",
    "bars = ib.reqHistoricalData(\n",
    "    contract,\n",
    "    endDateTime='',\n",
    "    durationStr='250 D',\n",
    "    barSizeSetting='1 hour',\n",
    "    whatToShow='MIDPOINT',\n",
    "    useRTH=True\n",
    ")"
   ]
  },
  {
   "cell_type": "code",
   "execution_count": 5,
   "metadata": {},
   "outputs": [],
   "source": [
    "# Convertir datos a DataFrame\n",
    "df = pd.DataFrame(bars, columns=['date', 'open', 'high', 'low', 'close', 'volume'])\n",
    "df.set_index('date', inplace=True)"
   ]
  },
  {
   "cell_type": "code",
   "execution_count": 6,
   "metadata": {},
   "outputs": [],
   "source": [
    "# Configuración de News API\n",
    "NEWS_API_KEY = \"b35c56d955ee45178c703f7f79c1dfca\""
   ]
  },
  {
   "cell_type": "code",
   "execution_count": 7,
   "metadata": {},
   "outputs": [],
   "source": [
    "# Obtener noticias relacionadas con tasas de interés y política económica\n",
    "url_news = f\"https://newsapi.org/v2/everything?q=interest%20rate%20OR%20monetary%20policy&language=en&apiKey={NEWS_API_KEY}\"\n",
    "response_news = requests.get(url_news).json()\n",
    "news_factor = len(response_news.get(\"articles\", []))  # Cantidad de noticias encontradas\n"
   ]
  },
  {
   "cell_type": "code",
   "execution_count": 8,
   "metadata": {},
   "outputs": [],
   "source": [
    "# Intentar obtener eventos económicos desde NewsAPI como alternativa\n",
    "economic_news_url = f\"https://newsapi.org/v2/everything?q=economic%20events%20OR%20GDP%20OR%20inflation%20OR%20unemployment&language=en&apiKey={NEWS_API_KEY}\"\n",
    "response_economic_news = requests.get(economic_news_url).json()\n",
    "economic_events_factor = len(response_economic_news.get(\"articles\", []))  # Cantidad de noticias económicas"
   ]
  },
  {
   "cell_type": "code",
   "execution_count": 9,
   "metadata": {},
   "outputs": [],
   "source": [
    "# Aplicar simulación de Monte Carlo para medias móviles\n",
    "simulations = 1000\n",
    "steps = 10\n",
    "simulated_averages = []\n",
    "for _ in range(simulations):\n",
    "    simulated_path = [df['close'].values[-1]]\n",
    "    for _ in range(steps - 1):\n",
    "        simulated_path.append(simulated_path[-1] * (1 + random.gauss(0, 0.01)))\n",
    "    simulated_averages.append(np.mean(simulated_path))\n",
    "ma_monte_carlo = np.mean(simulated_averages)\n"
   ]
  },
  {
   "cell_type": "code",
   "execution_count": 10,
   "metadata": {},
   "outputs": [],
   "source": [
    "# Normalización de los datos\n",
    "scaler = MinMaxScaler()\n",
    "data_scaled = scaler.fit_transform(df[['open', 'high', 'low', 'close']])"
   ]
  },
  {
   "cell_type": "code",
   "execution_count": 11,
   "metadata": {},
   "outputs": [],
   "source": [
    "# Preparar datos para LSTM\n",
    "sequence_length = 24  # Usamos 24 horas de datos previos\n",
    "X, y = [], []\n",
    "for i in range(len(data_scaled) - sequence_length):\n",
    "    X.append(data_scaled[i:i + sequence_length])\n",
    "    y.append(data_scaled[i + sequence_length])\n",
    "X, y = np.array(X), np.array(y)"
   ]
  },
  {
   "cell_type": "code",
   "execution_count": 12,
   "metadata": {},
   "outputs": [],
   "source": [
    "# Construcción del modelo LSTM\n",
    "model = Sequential([\n",
    "    Input(shape=(sequence_length, 4)),\n",
    "    LSTM(100, return_sequences=True),\n",
    "    Dropout(0.3),\n",
    "    LSTM(100, return_sequences=False),\n",
    "    Dropout(0.3),\n",
    "    Dense(4, activation='linear')\n",
    "])\n",
    "\n",
    "model.compile(optimizer='adam', loss='mean_squared_error')\n"
   ]
  },
  {
   "cell_type": "code",
   "execution_count": 13,
   "metadata": {},
   "outputs": [
    {
     "name": "stdout",
     "output_type": "stream",
     "text": [
      "Epoch 1/30\n",
      "\u001b[1m168/168\u001b[0m \u001b[32m━━━━━━━━━━━━━━━━━━━━\u001b[0m\u001b[37m\u001b[0m \u001b[1m6s\u001b[0m 19ms/step - loss: 0.0344 - val_loss: 3.5058e-04\n",
      "Epoch 2/30\n",
      "\u001b[1m168/168\u001b[0m \u001b[32m━━━━━━━━━━━━━━━━━━━━\u001b[0m\u001b[37m\u001b[0m \u001b[1m3s\u001b[0m 18ms/step - loss: 0.0048 - val_loss: 5.4644e-04\n",
      "Epoch 3/30\n",
      "\u001b[1m168/168\u001b[0m \u001b[32m━━━━━━━━━━━━━━━━━━━━\u001b[0m\u001b[37m\u001b[0m \u001b[1m3s\u001b[0m 18ms/step - loss: 0.0037 - val_loss: 8.6539e-04\n",
      "Epoch 4/30\n",
      "\u001b[1m168/168\u001b[0m \u001b[32m━━━━━━━━━━━━━━━━━━━━\u001b[0m\u001b[37m\u001b[0m \u001b[1m3s\u001b[0m 18ms/step - loss: 0.0030 - val_loss: 6.9719e-04\n",
      "Epoch 5/30\n",
      "\u001b[1m168/168\u001b[0m \u001b[32m━━━━━━━━━━━━━━━━━━━━\u001b[0m\u001b[37m\u001b[0m \u001b[1m3s\u001b[0m 18ms/step - loss: 0.0026 - val_loss: 2.5748e-04\n",
      "Epoch 6/30\n",
      "\u001b[1m168/168\u001b[0m \u001b[32m━━━━━━━━━━━━━━━━━━━━\u001b[0m\u001b[37m\u001b[0m \u001b[1m3s\u001b[0m 18ms/step - loss: 0.0023 - val_loss: 2.6687e-04\n",
      "Epoch 7/30\n",
      "\u001b[1m168/168\u001b[0m \u001b[32m━━━━━━━━━━━━━━━━━━━━\u001b[0m\u001b[37m\u001b[0m \u001b[1m3s\u001b[0m 18ms/step - loss: 0.0020 - val_loss: 3.0279e-04\n",
      "Epoch 8/30\n",
      "\u001b[1m168/168\u001b[0m \u001b[32m━━━━━━━━━━━━━━━━━━━━\u001b[0m\u001b[37m\u001b[0m \u001b[1m3s\u001b[0m 18ms/step - loss: 0.0016 - val_loss: 2.3294e-04\n",
      "Epoch 9/30\n",
      "\u001b[1m168/168\u001b[0m \u001b[32m━━━━━━━━━━━━━━━━━━━━\u001b[0m\u001b[37m\u001b[0m \u001b[1m3s\u001b[0m 18ms/step - loss: 0.0016 - val_loss: 3.1970e-04\n",
      "Epoch 10/30\n",
      "\u001b[1m168/168\u001b[0m \u001b[32m━━━━━━━━━━━━━━━━━━━━\u001b[0m\u001b[37m\u001b[0m \u001b[1m3s\u001b[0m 18ms/step - loss: 0.0015 - val_loss: 2.1806e-04\n",
      "Epoch 11/30\n",
      "\u001b[1m168/168\u001b[0m \u001b[32m━━━━━━━━━━━━━━━━━━━━\u001b[0m\u001b[37m\u001b[0m \u001b[1m3s\u001b[0m 18ms/step - loss: 0.0013 - val_loss: 3.0923e-04\n",
      "Epoch 12/30\n",
      "\u001b[1m168/168\u001b[0m \u001b[32m━━━━━━━━━━━━━━━━━━━━\u001b[0m\u001b[37m\u001b[0m \u001b[1m3s\u001b[0m 18ms/step - loss: 0.0012 - val_loss: 2.4362e-04\n",
      "Epoch 13/30\n",
      "\u001b[1m168/168\u001b[0m \u001b[32m━━━━━━━━━━━━━━━━━━━━\u001b[0m\u001b[37m\u001b[0m \u001b[1m3s\u001b[0m 18ms/step - loss: 0.0011 - val_loss: 3.6678e-04\n",
      "Epoch 14/30\n",
      "\u001b[1m168/168\u001b[0m \u001b[32m━━━━━━━━━━━━━━━━━━━━\u001b[0m\u001b[37m\u001b[0m \u001b[1m3s\u001b[0m 18ms/step - loss: 9.1595e-04 - val_loss: 1.7977e-04\n",
      "Epoch 15/30\n",
      "\u001b[1m168/168\u001b[0m \u001b[32m━━━━━━━━━━━━━━━━━━━━\u001b[0m\u001b[37m\u001b[0m \u001b[1m3s\u001b[0m 18ms/step - loss: 8.6270e-04 - val_loss: 1.7766e-04\n",
      "Epoch 16/30\n",
      "\u001b[1m168/168\u001b[0m \u001b[32m━━━━━━━━━━━━━━━━━━━━\u001b[0m\u001b[37m\u001b[0m \u001b[1m3s\u001b[0m 18ms/step - loss: 8.6936e-04 - val_loss: 2.7042e-04\n",
      "Epoch 17/30\n",
      "\u001b[1m168/168\u001b[0m \u001b[32m━━━━━━━━━━━━━━━━━━━━\u001b[0m\u001b[37m\u001b[0m \u001b[1m3s\u001b[0m 18ms/step - loss: 7.7103e-04 - val_loss: 1.9337e-04\n",
      "Epoch 18/30\n",
      "\u001b[1m168/168\u001b[0m \u001b[32m━━━━━━━━━━━━━━━━━━━━\u001b[0m\u001b[37m\u001b[0m \u001b[1m3s\u001b[0m 18ms/step - loss: 7.3709e-04 - val_loss: 3.9773e-04\n",
      "Epoch 19/30\n",
      "\u001b[1m168/168\u001b[0m \u001b[32m━━━━━━━━━━━━━━━━━━━━\u001b[0m\u001b[37m\u001b[0m \u001b[1m3s\u001b[0m 18ms/step - loss: 7.9338e-04 - val_loss: 1.5401e-04\n",
      "Epoch 20/30\n",
      "\u001b[1m168/168\u001b[0m \u001b[32m━━━━━━━━━━━━━━━━━━━━\u001b[0m\u001b[37m\u001b[0m \u001b[1m3s\u001b[0m 18ms/step - loss: 5.9985e-04 - val_loss: 1.5271e-04\n",
      "Epoch 21/30\n",
      "\u001b[1m168/168\u001b[0m \u001b[32m━━━━━━━━━━━━━━━━━━━━\u001b[0m\u001b[37m\u001b[0m \u001b[1m3s\u001b[0m 18ms/step - loss: 6.4195e-04 - val_loss: 3.1276e-04\n",
      "Epoch 22/30\n",
      "\u001b[1m168/168\u001b[0m \u001b[32m━━━━━━━━━━━━━━━━━━━━\u001b[0m\u001b[37m\u001b[0m \u001b[1m3s\u001b[0m 18ms/step - loss: 6.2474e-04 - val_loss: 1.4364e-04\n",
      "Epoch 23/30\n",
      "\u001b[1m168/168\u001b[0m \u001b[32m━━━━━━━━━━━━━━━━━━━━\u001b[0m\u001b[37m\u001b[0m \u001b[1m3s\u001b[0m 18ms/step - loss: 5.5983e-04 - val_loss: 1.3473e-04\n",
      "Epoch 24/30\n",
      "\u001b[1m168/168\u001b[0m \u001b[32m━━━━━━━━━━━━━━━━━━━━\u001b[0m\u001b[37m\u001b[0m \u001b[1m3s\u001b[0m 17ms/step - loss: 5.2989e-04 - val_loss: 1.7747e-04\n",
      "Epoch 25/30\n",
      "\u001b[1m168/168\u001b[0m \u001b[32m━━━━━━━━━━━━━━━━━━━━\u001b[0m\u001b[37m\u001b[0m \u001b[1m3s\u001b[0m 18ms/step - loss: 4.9599e-04 - val_loss: 1.2642e-04\n",
      "Epoch 26/30\n",
      "\u001b[1m168/168\u001b[0m \u001b[32m━━━━━━━━━━━━━━━━━━━━\u001b[0m\u001b[37m\u001b[0m \u001b[1m3s\u001b[0m 18ms/step - loss: 4.8769e-04 - val_loss: 1.1932e-04\n",
      "Epoch 27/30\n",
      "\u001b[1m168/168\u001b[0m \u001b[32m━━━━━━━━━━━━━━━━━━━━\u001b[0m\u001b[37m\u001b[0m \u001b[1m3s\u001b[0m 18ms/step - loss: 4.9782e-04 - val_loss: 1.3040e-04\n",
      "Epoch 28/30\n",
      "\u001b[1m168/168\u001b[0m \u001b[32m━━━━━━━━━━━━━━━━━━━━\u001b[0m\u001b[37m\u001b[0m \u001b[1m3s\u001b[0m 18ms/step - loss: 4.5868e-04 - val_loss: 1.4338e-04\n",
      "Epoch 29/30\n",
      "\u001b[1m168/168\u001b[0m \u001b[32m━━━━━━━━━━━━━━━━━━━━\u001b[0m\u001b[37m\u001b[0m \u001b[1m3s\u001b[0m 19ms/step - loss: 4.8993e-04 - val_loss: 1.0591e-04\n",
      "Epoch 30/30\n",
      "\u001b[1m168/168\u001b[0m \u001b[32m━━━━━━━━━━━━━━━━━━━━\u001b[0m\u001b[37m\u001b[0m \u001b[1m3s\u001b[0m 19ms/step - loss: 4.3882e-04 - val_loss: 1.1219e-04\n"
     ]
    }
   ],
   "source": [
    "# Entrenar el modelo\n",
    "model.fit(X, y, epochs=30, batch_size=32, validation_split=0.1)\n",
    "\n",
    "# Obtener datos más recientes para la predicción\n",
    "latest_data = data_scaled[-sequence_length:].reshape(1, sequence_length, 4)\n",
    "predictions = []\n",
    "end_time = datetime.now().replace(hour=21, minute=0, second=0)"
   ]
  },
  {
   "cell_type": "code",
   "execution_count": 14,
   "metadata": {},
   "outputs": [
    {
     "name": "stdout",
     "output_type": "stream",
     "text": [
      "\u001b[1m1/1\u001b[0m \u001b[32m━━━━━━━━━━━━━━━━━━━━\u001b[0m\u001b[37m\u001b[0m \u001b[1m0s\u001b[0m 341ms/step\n",
      "\u001b[1m1/1\u001b[0m \u001b[32m━━━━━━━━━━━━━━━━━━━━\u001b[0m\u001b[37m\u001b[0m \u001b[1m0s\u001b[0m 33ms/step\n",
      "\u001b[1m1/1\u001b[0m \u001b[32m━━━━━━━━━━━━━━━━━━━━\u001b[0m\u001b[37m\u001b[0m \u001b[1m0s\u001b[0m 28ms/step\n",
      "\u001b[1m1/1\u001b[0m \u001b[32m━━━━━━━━━━━━━━━━━━━━\u001b[0m\u001b[37m\u001b[0m \u001b[1m0s\u001b[0m 37ms/step\n",
      "\u001b[1m1/1\u001b[0m \u001b[32m━━━━━━━━━━━━━━━━━━━━\u001b[0m\u001b[37m\u001b[0m \u001b[1m0s\u001b[0m 34ms/step\n",
      "\u001b[1m1/1\u001b[0m \u001b[32m━━━━━━━━━━━━━━━━━━━━\u001b[0m\u001b[37m\u001b[0m \u001b[1m0s\u001b[0m 32ms/step\n",
      "\u001b[1m1/1\u001b[0m \u001b[32m━━━━━━━━━━━━━━━━━━━━\u001b[0m\u001b[37m\u001b[0m \u001b[1m0s\u001b[0m 28ms/step\n",
      "\u001b[1m1/1\u001b[0m \u001b[32m━━━━━━━━━━━━━━━━━━━━\u001b[0m\u001b[37m\u001b[0m \u001b[1m0s\u001b[0m 31ms/step\n",
      "\u001b[1m1/1\u001b[0m \u001b[32m━━━━━━━━━━━━━━━━━━━━\u001b[0m\u001b[37m\u001b[0m \u001b[1m0s\u001b[0m 29ms/step\n",
      "\u001b[1m1/1\u001b[0m \u001b[32m━━━━━━━━━━━━━━━━━━━━\u001b[0m\u001b[37m\u001b[0m \u001b[1m0s\u001b[0m 35ms/step\n"
     ]
    }
   ],
   "source": [
    "for i in range(10):  # Predicción de 10 horas\n",
    "    pred = model.predict(latest_data)\n",
    "    pred_adjusted = pred + (news_factor * 0.0001) + (economic_events_factor * 0.0001) + (ma_monte_carlo * 0.00005)\n",
    "    predictions.append(scaler.inverse_transform(pred_adjusted)[0])\n",
    "    latest_data = np.append(latest_data[:, 1:, :], pred_adjusted.reshape(1, 1, 4), axis=1)"
   ]
  },
  {
   "cell_type": "code",
   "execution_count": 15,
   "metadata": {},
   "outputs": [
    {
     "name": "stdout",
     "output_type": "stream",
     "text": [
      "                                open      high       low     close\n",
      "2025-03-12 22:00:00.249924  1.298958  1.299414  1.298301  1.298827\n",
      "2025-03-12 23:00:00.249924  1.299701  1.300148  1.299045  1.299546\n",
      "2025-03-13 00:00:00.249924  1.300656  1.301095  1.300004  1.300480\n",
      "2025-03-13 01:00:00.249924  1.301642  1.302076  1.300996  1.301454\n",
      "2025-03-13 02:00:00.249924  1.302593  1.303024  1.301954  1.302399\n",
      "2025-03-13 03:00:00.249924  1.303498  1.303928  1.302864  1.303303\n",
      "2025-03-13 04:00:00.249924  1.304368  1.304797  1.303738  1.304174\n",
      "2025-03-13 05:00:00.249924  1.305214  1.305644  1.304587  1.305022\n",
      "2025-03-13 06:00:00.249924  1.306045  1.306476  1.305421  1.305855\n",
      "2025-03-13 07:00:00.249924  1.306865  1.307297  1.306242  1.306677\n"
     ]
    }
   ],
   "source": [
    "# Crear un DataFrame con las predicciones\n",
    "prediction_times = [end_time + timedelta(hours=i) for i in range(1, 11)]\n",
    "predicted_df = pd.DataFrame(predictions, columns=['open', 'high', 'low', 'close'], index=prediction_times)\n",
    "\n",
    "print(predicted_df)"
   ]
  },
  {
   "cell_type": "code",
   "execution_count": 16,
   "metadata": {},
   "outputs": [],
   "source": [
    "ib.disconnect()"
   ]
  }
 ],
 "metadata": {
  "kernelspec": {
   "display_name": "Python 3",
   "language": "python",
   "name": "python3"
  },
  "language_info": {
   "codemirror_mode": {
    "name": "ipython",
    "version": 3
   },
   "file_extension": ".py",
   "mimetype": "text/x-python",
   "name": "python",
   "nbconvert_exporter": "python",
   "pygments_lexer": "ipython3",
   "version": "3.12.5"
  }
 },
 "nbformat": 4,
 "nbformat_minor": 2
}
