{
 "cells": [
  {
   "cell_type": "code",
   "execution_count": 11,
   "metadata": {},
   "outputs": [],
   "source": [
    "from ibapi.client import EClient\n",
    "from ibapi.wrapper import EWrapper\n",
    "from ibapi.contract import Contract\n",
    "import threading\n",
    "import time"
   ]
  },
  {
   "cell_type": "code",
   "execution_count": null,
   "metadata": {},
   "outputs": [],
   "source": [
    "\n",
    "class IBApp(EWrapper, EClient):\n",
    "    def __init__(self):\n",
    "        EClient.__init__(self, self)\n",
    "\n",
    "    def tickPrice(self, reqId, tickType, price, attrib):\n",
    "        print(f\"Tick Price. Ticker Id: {reqId}, Tick Type: {tickType}, Price: {price}\")\n",
    "\n",
    "def run_loop():\n",
    "    app.run()\n",
    "\n",
    "app = IBApp()\n",
    "app.connect(\"127.0.0.1\", 7497, clientId=1)\n",
    "\n",
    "# Crear un nuevo hilo para ejecutar la conexión de la API\n",
    "api_thread = threading.Thread(target=run_loop, daemon=True)\n",
    "api_thread.start()\n",
    "\n",
    "# Definir contrato para GBP/USD\n",
    "contract = Contract()\n",
    "contract.symbol = \"GBP\"\n",
    "contract.secType = \"CASH\"\n",
    "contract.currency = \"USD\"\n",
    "contract.exchange = \"IDEALPRO\"\n",
    "\n",
    "# Solicitar datos de mercado para el contrato definido\n",
    "app.reqMktData(1, contract, \"\", False, False, [])\n",
    "\n",
    "# Esperar 10 segundos para recibir datos\n",
    "time.sleep(10)\n",
    "\n",
    "# Desconectar la aplicación\n",
    "app.disconnect()"
   ]
  }
 ],
 "metadata": {
  "kernelspec": {
   "display_name": "Python 3",
   "language": "python",
   "name": "python3"
  },
  "language_info": {
   "codemirror_mode": {
    "name": "ipython",
    "version": 3
   },
   "file_extension": ".py",
   "mimetype": "text/x-python",
   "name": "python",
   "nbconvert_exporter": "python",
   "pygments_lexer": "ipython3",
   "version": "3.12.5"
  }
 },
 "nbformat": 4,
 "nbformat_minor": 2
}
