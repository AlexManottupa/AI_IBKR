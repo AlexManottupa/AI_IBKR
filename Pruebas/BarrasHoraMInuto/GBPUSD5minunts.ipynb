{
 "cells": [
  {
   "cell_type": "markdown",
   "metadata": {},
   "source": [
    "Divisa GBP/USD con velas de 5 minutos\n"
   ]
  },
  {
   "cell_type": "code",
   "execution_count": 1,
   "metadata": {},
   "outputs": [],
   "source": [
    "from ib_insync import *"
   ]
  },
  {
   "cell_type": "code",
   "execution_count": 2,
   "metadata": {},
   "outputs": [],
   "source": [
    "util.startLoop()"
   ]
  },
  {
   "cell_type": "code",
   "execution_count": 3,
   "metadata": {},
   "outputs": [
    {
     "data": {
      "text/plain": [
       "<IB connected to 127.0.0.1:7497 clientId=1>"
      ]
     },
     "execution_count": 3,
     "metadata": {},
     "output_type": "execute_result"
    }
   ],
   "source": [
    "ib = IB()\n",
    "ib.connect('127.0.0.1', 7497, clientId=1)"
   ]
  },
  {
   "cell_type": "code",
   "execution_count": 4,
   "metadata": {},
   "outputs": [
    {
     "name": "stdout",
     "output_type": "stream",
     "text": [
      "                          date      open      high       low     close  \\\n",
      "0    2025-01-12 17:15:00-05:00  1.220225  1.220225  1.220110  1.220125   \n",
      "1    2025-01-12 17:20:00-05:00  1.220125  1.220230  1.220110  1.220230   \n",
      "2    2025-01-12 17:25:00-05:00  1.220230  1.220240  1.220150  1.220165   \n",
      "3    2025-01-12 17:30:00-05:00  1.220165  1.220295  1.220145  1.220270   \n",
      "4    2025-01-12 17:35:00-05:00  1.220270  1.220365  1.220040  1.220170   \n",
      "...                        ...       ...       ...       ...       ...   \n",
      "8545 2025-02-21 16:35:00-05:00  1.262785  1.262900  1.262720  1.262755   \n",
      "8546 2025-02-21 16:40:00-05:00  1.262755  1.262945  1.262755  1.262925   \n",
      "8547 2025-02-21 16:45:00-05:00  1.262925  1.262960  1.262905  1.262960   \n",
      "8548 2025-02-21 16:50:00-05:00  1.262960  1.263135  1.262835  1.263120   \n",
      "8549 2025-02-21 16:55:00-05:00  1.263120  1.263740  1.263005  1.263280   \n",
      "\n",
      "      volume  average  barCount  \n",
      "0       -1.0     -1.0        -1  \n",
      "1       -1.0     -1.0        -1  \n",
      "2       -1.0     -1.0        -1  \n",
      "3       -1.0     -1.0        -1  \n",
      "4       -1.0     -1.0        -1  \n",
      "...      ...      ...       ...  \n",
      "8545    -1.0     -1.0        -1  \n",
      "8546    -1.0     -1.0        -1  \n",
      "8547    -1.0     -1.0        -1  \n",
      "8548    -1.0     -1.0        -1  \n",
      "8549    -1.0     -1.0        -1  \n",
      "\n",
      "[8550 rows x 8 columns]\n"
     ]
    }
   ],
   "source": [
    "contract = Forex('GBPUSD')\n",
    "bars = ib.reqHistoricalData(\n",
    "    contract, endDateTime='', durationStr='30 D',\n",
    "    barSizeSetting='5 mins', whatToShow='MIDPOINT', useRTH=True)\n",
    "\n",
    "# convert to pandas dataframe (pandas needs to be installed):\n",
    "df = util.df(bars)\n",
    "print(df)"
   ]
  },
  {
   "cell_type": "code",
   "execution_count": 5,
   "metadata": {},
   "outputs": [],
   "source": [
    "ib.disconnect()"
   ]
  }
 ],
 "metadata": {
  "kernelspec": {
   "display_name": "Python 3",
   "language": "python",
   "name": "python3"
  },
  "language_info": {
   "codemirror_mode": {
    "name": "ipython",
    "version": 3
   },
   "file_extension": ".py",
   "mimetype": "text/x-python",
   "name": "python",
   "nbconvert_exporter": "python",
   "pygments_lexer": "ipython3",
   "version": "3.12.5"
  }
 },
 "nbformat": 4,
 "nbformat_minor": 2
}
