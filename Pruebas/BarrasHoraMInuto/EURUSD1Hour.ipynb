{
 "cells": [
  {
   "cell_type": "markdown",
   "metadata": {},
   "source": [
    "Divisa par EURUSD vela de 1 hora\n"
   ]
  },
  {
   "cell_type": "code",
   "execution_count": 1,
   "metadata": {},
   "outputs": [],
   "source": [
    "from ib_insync import *"
   ]
  },
  {
   "cell_type": "code",
   "execution_count": 2,
   "metadata": {},
   "outputs": [],
   "source": [
    "util.startLoop()"
   ]
  },
  {
   "cell_type": "code",
   "execution_count": 3,
   "metadata": {},
   "outputs": [
    {
     "data": {
      "text/plain": [
       "<IB connected to 127.0.0.1:7497 clientId=1>"
      ]
     },
     "execution_count": 3,
     "metadata": {},
     "output_type": "execute_result"
    }
   ],
   "source": [
    "ib = IB()\n",
    "ib.connect('127.0.0.1', 7497, clientId=1)\n"
   ]
  },
  {
   "cell_type": "code",
   "execution_count": 4,
   "metadata": {},
   "outputs": [
    {
     "name": "stdout",
     "output_type": "stream",
     "text": [
      "                          date      open      high       low     close  \\\n",
      "0    2024-10-16 16:15:00-05:00  1.086575  1.086680  1.086235  1.086385   \n",
      "1    2024-10-16 17:00:00-05:00  1.086385  1.086475  1.085755  1.085870   \n",
      "2    2024-10-16 18:00:00-05:00  1.085870  1.085960  1.085640  1.085890   \n",
      "3    2024-10-16 19:00:00-05:00  1.085890  1.086420  1.085795  1.086330   \n",
      "4    2024-10-16 20:00:00-05:00  1.086330  1.086380  1.085905  1.086250   \n",
      "...                        ...       ...       ...       ...       ...   \n",
      "2151 2025-02-21 12:00:00-05:00  1.045470  1.046445  1.045220  1.046310   \n",
      "2152 2025-02-21 13:00:00-05:00  1.046310  1.046800  1.045090  1.045990   \n",
      "2153 2025-02-21 14:00:00-05:00  1.045990  1.046665  1.045735  1.046215   \n",
      "2154 2025-02-21 15:00:00-05:00  1.046215  1.046460  1.045745  1.046075   \n",
      "2155 2025-02-21 16:00:00-05:00  1.046075  1.046315  1.045880  1.045960   \n",
      "\n",
      "      volume  average  barCount  \n",
      "0       -1.0     -1.0        -1  \n",
      "1       -1.0     -1.0        -1  \n",
      "2       -1.0     -1.0        -1  \n",
      "3       -1.0     -1.0        -1  \n",
      "4       -1.0     -1.0        -1  \n",
      "...      ...      ...       ...  \n",
      "2151    -1.0     -1.0        -1  \n",
      "2152    -1.0     -1.0        -1  \n",
      "2153    -1.0     -1.0        -1  \n",
      "2154    -1.0     -1.0        -1  \n",
      "2155    -1.0     -1.0        -1  \n",
      "\n",
      "[2156 rows x 8 columns]\n"
     ]
    }
   ],
   "source": [
    "contract = Forex('EURUSD')\n",
    "bars = ib.reqHistoricalData(\n",
    "    contract, endDateTime='', durationStr='90 D',\n",
    "    barSizeSetting='1 hour', whatToShow='MIDPOINT', useRTH=True)\n",
    "\n",
    "# convert to pandas dataframe (pandas needs to be installed):\n",
    "df = util.df(bars)\n",
    "print(df)"
   ]
  },
  {
   "cell_type": "code",
   "execution_count": 5,
   "metadata": {},
   "outputs": [],
   "source": [
    "ib.disconnect()"
   ]
  }
 ],
 "metadata": {
  "kernelspec": {
   "display_name": "Python 3",
   "language": "python",
   "name": "python3"
  },
  "language_info": {
   "codemirror_mode": {
    "name": "ipython",
    "version": 3
   },
   "file_extension": ".py",
   "mimetype": "text/x-python",
   "name": "python",
   "nbconvert_exporter": "python",
   "pygments_lexer": "ipython3",
   "version": "3.12.5"
  }
 },
 "nbformat": 4,
 "nbformat_minor": 2
}
