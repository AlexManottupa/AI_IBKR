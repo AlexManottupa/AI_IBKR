{
 "cells": [
  {
   "cell_type": "markdown",
   "id": "8ef9b666",
   "metadata": {},
   "source": [
    "Extraccion de noticas de Trading Economics calendar"
   ]
  },
  {
   "cell_type": "code",
   "execution_count": 1,
   "id": "21eb6a34",
   "metadata": {},
   "outputs": [],
   "source": [
    "import requests"
   ]
  },
  {
   "cell_type": "code",
   "execution_count": 2,
   "id": "3aebc6c2",
   "metadata": {},
   "outputs": [],
   "source": [
    "\n",
    "url = \"https://api.tradingeconomics.com/calendar/country/all\"\n",
    "params = {\n",
    "    \"c\": \"guest:guest\"  # API key demo\n",
    "}"
   ]
  },
  {
   "cell_type": "code",
   "execution_count": 3,
   "id": "b7876a1b",
   "metadata": {},
   "outputs": [
    {
     "name": "stdout",
     "output_type": "stream",
     "text": [
      "Singapore | 2024-10-14T00:00:00 | GDP Growth Rate QoQ Adv | Actual: 2.1%\n",
      "Singapore | 2024-10-14T00:00:00 | GDP Growth Rate YoY Adv | Actual: 4.1%\n",
      "Ireland | 2024-10-14T00:01:00 | Construction PMI | Actual: \n"
     ]
    }
   ],
   "source": [
    "result = requests.get(url, params=params)\n",
    "data = result.json()\n",
    "\n",
    "for d in data[:5]:\n",
    "    print(f\"{d['Country']} | {d['Date']} | {d['Event']} | Actual: {d['Actual']}\")\n"
   ]
  }
 ],
 "metadata": {
  "kernelspec": {
   "display_name": "Python 3",
   "language": "python",
   "name": "python3"
  },
  "language_info": {
   "codemirror_mode": {
    "name": "ipython",
    "version": 3
   },
   "file_extension": ".py",
   "mimetype": "text/x-python",
   "name": "python",
   "nbconvert_exporter": "python",
   "pygments_lexer": "ipython3",
   "version": "3.12.5"
  }
 },
 "nbformat": 4,
 "nbformat_minor": 5
}
